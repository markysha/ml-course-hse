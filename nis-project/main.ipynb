{
 "cells": [
  {
   "cell_type": "code",
   "execution_count": 1,
   "metadata": {},
   "outputs": [],
   "source": [
    "import os\n",
    "import numpy as np\n",
    "import pylab as plt\n",
    "import scipy.signal as sg\n",
    "import sounddevice as sd\n",
    "import pandas as pd\n",
    "from time import sleep\n",
    "from sklearn.model_selection import train_test_split\n",
    "plt.rcParams['axes.grid'] = True"
   ]
  },
  {
   "cell_type": "code",
   "execution_count": 122,
   "metadata": {},
   "outputs": [
    {
     "name": "stdout",
     "output_type": "stream",
     "text": [
      "(225, 16000) (225,) (750, 16000)\n"
     ]
    }
   ],
   "source": [
    "data_dir = '.'\n",
    "x_global_train = np.load(os.path.join(data_dir, 'train.npz'))['x']\n",
    "y_global_train = np.load(os.path.join(data_dir, 'train.npz'))['y']\n",
    "x_global_test  = np.load(os.path.join(data_dir, 'test.npz'))['x']\n",
    "x_train, x_test, y_train, y_test = train_test_split(x_global_train, y_global_train, stratify=y_global_train, shuffle=True, train_size=0.9)\n",
    "fs = 16000\n",
    "print(x_test.shape, y_test.shape, x_global_test.shape)"
   ]
  },
  {
   "cell_type": "code",
   "execution_count": 3,
   "metadata": {},
   "outputs": [],
   "source": [
    "from sklearn.metrics import accuracy_score"
   ]
  },
  {
   "cell_type": "code",
   "execution_count": 143,
   "metadata": {},
   "outputs": [
    {
     "name": "stdout",
     "output_type": "stream",
     "text": [
      "(501,) (2025, 501)\n"
     ]
    },
    {
     "data": {
      "text/plain": [
       "[<matplotlib.lines.Line2D at 0x2a1181072e0>]"
      ]
     },
     "execution_count": 143,
     "metadata": {},
     "output_type": "execute_result"
    },
    {
     "data": {
      "image/png": "[encoded data removed]",
      "text/plain": [
       "<Figure size 432x288 with 1 Axes>"
      ]
     },
     "metadata": {
      "needs_background": "light"
     },
     "output_type": "display_data"
    }
   ],
   "source": [
    "# plot a spectrum of some sample\n",
    "freq, x_spec_train = sg.welch(x_train, 16000, axis=1, nperseg=1000)\n",
    "print(freq.shape, x_spec_train.shape)\n",
    "freq_filtered = (freq > 50) & (freq < 300)\n",
    "plt.semilogy(freq[freq_filtered], x_spec_train[1][freq_filtered])"
   ]
  },
  {
   "cell_type": "code",
   "execution_count": 154,
   "metadata": {},
   "outputs": [
    {
     "name": "stdout",
     "output_type": "stream",
     "text": [
      "train accuracy 0.9846913580246913\n",
      "test accuracy 0.8222222222222222\n"
     ]
    }
   ],
   "source": [
    "from sklearn.preprocessing import StandardScaler\n",
    "from sklearn.compose import ColumnTransformer\n",
    "from sklearn.pipeline import Pipeline\n",
    "\n",
    "from sklearn.ensemble import GradientBoostingClassifier\n",
    "\n",
    "clf1 = GradientBoostingClassifier(max_depth=3, min_samples_leaf=0.1)\n",
    "clf2 = GradientBoostingClassifier(max_depth=4, min_samples_leaf=0.08)\n",
    "clf3 = GradientBoostingClassifier(max_depth=5, min_samples_leaf=0.08)\n",
    "\n",
    "from sklearn.base import BaseEstimator, TransformerMixin\n",
    "\n",
    "def moving_average(a, n=3) :\n",
    "    ret = np.cumsum(a, dtype=float, axis=1)\n",
    "    ret[:, n:] = ret[:, n:] - ret[:, :-n]\n",
    "    return ret[:, n - 1:] / n\n",
    "\n",
    "class MyTransformer(BaseEstimator, TransformerMixin):\n",
    "    def __init__(self):\n",
    "        pass\n",
    "    \n",
    "    def fit(self, X, y = None):\n",
    "        return self\n",
    "    \n",
    "    def transform(self, X):\n",
    "        freq, x_spec = sg.welch(X, 16000, axis=1, nperseg=1000)\n",
    "        \n",
    "        return x_spec\n",
    "        return np.concatenate((x_spec[:, freq_filtered],x_spec1[:, freq_filtered1]),axis=1)\n",
    "\n",
    "    \n",
    "class MovingAverageTransformer(BaseEstimator, TransformerMixin):\n",
    "    def __init__(self):\n",
    "        pass\n",
    "    \n",
    "    def fit(self, X, y = None):\n",
    "        return self\n",
    "    \n",
    "    def transform(self, X):\n",
    "        X = X.copy()\n",
    "        X = moving_average(X, 40)\n",
    "        return X\n",
    "    \n",
    "    \n",
    "column_transformer = ColumnTransformer([\n",
    "    ('my_transform', MyTransformer(), slice(0, fs)),\n",
    "    ('moving_average_transform', MovingAverageTransformer(), slice(0, 100)),\n",
    "], sparse_threshold=0)\n",
    "\n",
    "pipeline = Pipeline(steps=[\n",
    "    ('colum_transform', column_transformer),\n",
    "    ('scale', StandardScaler()),\n",
    "    ('regression', VotingClassifier(estimators=[\n",
    "        ('lr', clf1),\n",
    "        ('lr2', clf2),\n",
    "        ('lr3', clf3),\n",
    "    ], voting='hard'))\n",
    "])\n",
    "\n",
    "model = pipeline.fit(x_train, y_train - 2)\n",
    "\n",
    "y_train_pred = model.predict(x_train) + 2\n",
    "y_test_pred = model.predict(x_test) + 2\n",
    "\n",
    "print(\"train accuracy\", accuracy_score(y_train_pred, y_train))\n",
    "print(\"test accuracy\", accuracy_score(y_test_pred, y_test))"
   ]
  },
  {
   "cell_type": "code",
   "execution_count": 155,
   "metadata": {},
   "outputs": [],
   "source": [
    "y_global_test_pred = model.predict(x_global_test) + 2\n",
    "np.savetxt('y_test.txt', y_global_test_pred.astype(int), encoding='utf-8', fmt='%i')"
   ]
  },
  {
   "cell_type": "code",
   "execution_count": null,
   "metadata": {},
   "outputs": [],
   "source": []
  }
 ],
 "metadata": {
  "kernelspec": {
   "display_name": "Python 3",
   "language": "python",
   "name": "python3"
  },
  "language_info": {
   "codemirror_mode": {
    "name": "ipython",
    "version": 3
   },
   "file_extension": ".py",
   "mimetype": "text/x-python",
   "name": "python",
   "nbconvert_exporter": "python",
   "pygments_lexer": "ipython3",
   "version": "3.8.3"
  }
 },
 "nbformat": 4,
 "nbformat_minor": 4
}
