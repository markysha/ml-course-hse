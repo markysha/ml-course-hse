{
 "cells": [
  {
   "cell_type": "markdown",
   "metadata": {
    "id": "RYp0bXOFK-hP"
   },
   "source": [
    "# Машинное обучение, ФКН ВШЭ\n",
    "\n",
    "## Практическое задание 8. Метод опорных векторов и аппроксимация ядер\n",
    "\n",
    "### Общая информация\n",
    "Дата выдачи: 05.02.2021\n",
    "\n",
    "Мягкий дедлайн: 01:59MSK 21.02.2021\n",
    "\n",
    "Жесткий дедлайн: 01:59MSK 24.02.2021\n",
    "\n",
    "### Оценивание и штрафы\n",
    "Каждая из задач имеет определенную «стоимость» (указана в скобках около задачи). Максимальная оценка за работу (без учёта бонусов) — 10 баллов.\n",
    "\n",
    "Сдавать задание после указанного жёсткого срока сдачи нельзя. При выставлении неполного балла за задание в связи с наличием ошибок на усмотрение проверяющего предусмотрена возможность исправить работу на указанных в ответном письме условиях.\n",
    "\n",
    "Задание выполняется самостоятельно. «Похожие» решения считаются плагиатом и все задействованные студенты (в том числе те, у кого списали) не могут получить за него больше 0 баллов (подробнее о плагиате см. на странице курса). Если вы нашли решение какого-то из заданий (или его часть) в открытом источнике, необходимо указать ссылку на этот источник в отдельном блоке в конце вашей работы (скорее всего вы будете не единственным, кто это нашел, поэтому чтобы исключить подозрение в плагиате, необходима ссылка на источник).\n",
    "\n",
    "Неэффективная реализация кода может негативно отразиться на оценке.\n",
    "\n",
    "### Формат сдачи\n",
    "Задания сдаются через систему anytask. Посылка должна содержать:\n",
    "* Ноутбук homework-practice-08-random-features-Username.ipynb\n",
    "\n",
    "Username — ваша фамилия и имя на латинице именно в таком порядке"
   ]
  },
  {
   "cell_type": "markdown",
   "metadata": {
    "id": "vY8vT0W_K-hR"
   },
   "source": [
    "### О задании\n",
    "\n",
    "На занятиях мы подробно обсуждали метод опорных векторов (SVM). В базовой версии в нём нет чего-то особенного — мы всего лишь используем специальную функцию потерь, которая не требует устремлять отступы к бесконечности; ей достаточно, чтобы отступы были не меньше +1. Затем мы узнали, что SVM можно переписать в двойственном виде, который, позволяет заменить скалярные произведения объектов на ядра. Это будет соответствовать построению модели в новом пространстве более высокой размерности, координаты которого представляют собой нелинейные модификации исходных признаков.\n",
    "\n",
    "Ядровой SVM, к сожалению, довольно затратен по памяти (нужно хранить матрицу Грама размера $d \\times d$) и по времени (нужно решать задачу условной оптимизации с квадратичной функцией, а это не очень быстро). Мы обсуждали, что есть способы посчитать новые признаки $\\tilde \\varphi(x)$ на основе исходных так, что скалярные произведения этих новых $\\langle \\tilde \\varphi(x), \\tilde \\varphi(z) \\rangle$ приближают ядро $K(x, z)$.\n",
    "\n",
    "Мы будем исследовать аппроксимации методом Random Fourier Features (RFF, также в литературе встречается название Random Kitchen Sinks) для гауссовых ядер. Будем использовать формулы, которые немного отличаются от того, что было на лекциях (мы добавим сдвиги внутрь тригонометрических функций и будем использовать только косинусы, потому что с нужным сдвигом косинус превратится в синус):\n",
    "$$\\tilde \\varphi(x) = (\n",
    "\\cos (w_1^T x + b_1),\n",
    "\\dots,\n",
    "\\cos (w_n^T x + b_n)\n",
    "),$$\n",
    "где $w_j \\sim \\mathcal{N}(0, 1/\\sigma^2)$, $b_j \\sim U[-\\pi, \\pi]$.\n",
    "\n",
    "На новых признаках $\\tilde \\varphi(x)$ мы будем строить любую линейную модель.\n",
    "\n",
    "Можно считать, что это некоторая новая парадигма построения сложных моделей. Можно направленно искать сложные нелинейные закономерности в данных с помощью градиентного бустинга или нейронных сетей, а можно просто нагенерировать большое количество случайных нелинейных признаков и надеяться, что быстрая и простая модель (то есть линейная) сможет показать на них хорошее качество. В этом задании мы изучим, насколько работоспособна такая идея.\n",
    "\n",
    "### Алгоритм\n",
    "\n",
    "Вам потребуется реализовать следующий алгоритм:\n",
    "1. Понизить размерность выборки до new_dim с помощью метода главных компонент.\n",
    "2. Для полученной выборки оценить гиперпараметр $\\sigma^2$ с помощью эвристики (рекомендуем считать медиану не по всем парам объектов, а по случайному подмножеству из где-то миллиона пар объектов): $$\\sigma^2 = \\text{median}_{i, j = 1, \\dots, \\ell, i \\neq j} \\left\\{\\sum_{k = 1}^{d} (x_{ik} - x_{jk})^2 \\right\\}$$\n",
    "3. Сгенерировать n_features наборов весов $w_j$ и сдвигов $b_j$.\n",
    "4. Сформировать n_features новых признаков по формулам, приведённым выше.\n",
    "5. Обучить линейную модель (логистическую регрессию или SVM) на новых признаках.\n",
    "6. Повторить преобразования (PCA, формирование новых признаков) к тестовой выборке и применить модель."
   ]
  },
  {
   "cell_type": "markdown",
   "metadata": {
    "id": "N_sGunb7K-hS"
   },
   "source": [
    "Тестировать алгоритм мы будем на данных Fashion MNIST. Ниже код для их загрузки и подготовки."
   ]
  },
  {
   "cell_type": "code",
   "execution_count": 1,
   "metadata": {
    "colab": {
     "base_uri": "https://localhost:8080/"
    },
    "id": "YyG6dBfjK-hS",
    "outputId": "352a5853-3ec3-40c8-ed5c-389e2518a43f"
   },
   "outputs": [
    {
     "name": "stdout",
     "output_type": "stream",
     "text": [
      "Downloading data from https://storage.googleapis.com/tensorflow/tf-keras-datasets/train-labels-idx1-ubyte.gz\n",
      "32768/29515 [=================================] - 0s 0us/step\n",
      "Downloading data from https://storage.googleapis.com/tensorflow/tf-keras-datasets/train-images-idx3-ubyte.gz\n",
      "26427392/26421880 [==============================] - 0s 0us/step\n",
      "Downloading data from https://storage.googleapis.com/tensorflow/tf-keras-datasets/t10k-labels-idx1-ubyte.gz\n",
      "8192/5148 [===============================================] - 0s 0us/step\n",
      "Downloading data from https://storage.googleapis.com/tensorflow/tf-keras-datasets/t10k-images-idx3-ubyte.gz\n",
      "4423680/4422102 [==============================] - 0s 0us/step\n"
     ]
    }
   ],
   "source": [
    "import keras\n",
    "from keras.datasets import fashion_mnist\n",
    "(x_train_pics, y_train), (x_test_pics, y_test) = fashion_mnist.load_data()\n",
    "x_train = x_train_pics.reshape(x_train_pics.shape[0], -1)\n",
    "x_test = x_test_pics.reshape(x_test_pics.shape[0], -1)\n",
    "\n",
    "import warnings\n",
    "warnings.filterwarnings('ignore')\n",
    "import matplotlib.pyplot as plt\n",
    "from sklearn.metrics import accuracy_score\n",
    "import time"
   ]
  },
  {
   "cell_type": "markdown",
   "metadata": {
    "id": "rJNN55F7K-hT"
   },
   "source": [
    "__Задание 1. (5 баллов)__\n",
    "\n",
    "Реализуйте алгоритм, описанный выше. Можете воспользоваться шаблоном класса ниже или написать свой интерфейс.\n",
    "\n",
    "Ваша реализация должна поддерживать следующие опции:\n",
    "1. Возможность задавать значения гиперпараметров new_dim (по умолчанию 50) и n_features (по умолчанию 1000).\n",
    "2. Возможность включать или выключать предварительное понижение размерности с помощью метода главных компонент.\n",
    "3. Возможность выбирать тип линейной модели (логистическая регрессия или SVM с линейным ядром).\n",
    "\n",
    "Протестируйте на данных Fashion MNIST, сформированных кодом выше. Если на тесте у вас получилась доля верных ответов не ниже 0.84 с гиперпараметрами по умолчанию, то вы всё сделали правильно."
   ]
  },
  {
   "cell_type": "code",
   "execution_count": 2,
   "metadata": {
    "id": "jP8yepx8K-hT"
   },
   "outputs": [],
   "source": [
    "from sklearn.base import BaseEstimator, TransformerMixin\n",
    "from sklearn.decomposition import PCA, IncrementalPCA, TruncatedSVD\n",
    "from sklearn.svm import SVC\n",
    "from sklearn.linear_model import LogisticRegression\n",
    "import numpy as np\n",
    "\n",
    "\n",
    "class RFFPipeline(BaseEstimator, TransformerMixin):\n",
    "    def __init__(self, n_features=1000, new_dim=50, use_PCA=True, classifier='logreg'):\n",
    "        \"\"\"        \n",
    "        Implements pipeline, which consists of PCA decomposition,\n",
    "        Random Fourier Features approximation and linear classification model.\n",
    "        \n",
    "        n_features, int: amount of synthetic random features generated with RFF approximation.\n",
    "\n",
    "        new_dim, int: PCA output size.\n",
    "        \n",
    "        use_PCA, bool: whether to include PCA preprocessing.\n",
    "        \n",
    "        classifier, string: either 'svm' or 'logreg', a linear classification model to use on top of pipeline.\n",
    "        \n",
    "        Feel free to edit this template for your preferences.    \n",
    "        \"\"\"\n",
    "        self.n_features = n_features\n",
    "        self.use_PCA = use_PCA\n",
    "        self.new_dim = new_dim\n",
    "        self.classifier = classifier\n",
    "    \n",
    "    def get_sigma(self):\n",
    "        sample_size = 1000000\n",
    "        i_s = np.random.randint(self.X.shape[0], size=sample_size)\n",
    "        j_s = np.random.randint(self.X.shape[0], size=sample_size)\n",
    "        all = np.sum((self.X[i_s, :] - self.X[j_s, :]) ** 2, axis=1)\n",
    "        return np.median(all)\n",
    "\n",
    "    def fit_PCA(self):\n",
    "        if (self.use_PCA):\n",
    "            self.PCA_model = PCA(n_components=self.new_dim, copy=True, whiten=True)\n",
    "            self.X = self.PCA_model.fit_transform(self.X)\n",
    "\n",
    "        return self\n",
    "    \n",
    "    def transform_PCA(self):\n",
    "        if (self.use_PCA):\n",
    "            self.X = self.PCA_model.transform(self.X)\n",
    "\n",
    "        return self\n",
    "\n",
    "    def generate_new_features(self):\n",
    "        self.sigma = self.get_sigma()\n",
    "        self.features_w = np.random.normal(0, 1. / self.sigma, size=(self.n_features, self.X.shape[1]))\n",
    "        self.features_b = np.random.uniform(-np.pi, np.pi, size=self.n_features)\n",
    "        return self\n",
    "\n",
    "    def apply_new_features(self):\n",
    "        self.X = np.cos(np.dot(self.X, self.features_w.T) + self.features_b)\n",
    "        return self\n",
    "\n",
    "    def fit_base_model(self):\n",
    "        if self.classifier == \"svm\":\n",
    "            self.base_model = SVC(probability=True)\n",
    "        if self.classifier == \"logreg\":\n",
    "            self.base_model = LogisticRegression()\n",
    "        \n",
    "        self.base_model.fit(self.X, self.y)\n",
    "        return self\n",
    "\n",
    "    def predict_base_model(self):\n",
    "        return self.base_model.predict_proba(self.X)\n",
    "\n",
    "    def fit(self, X, y):\n",
    "        \"\"\"\n",
    "        Fit all parts of algorithm (PCA, RFF, Classification) to training set.\n",
    "        \"\"\"\n",
    "        self.X = X.copy()\n",
    "        self.y = y.copy()\n",
    "        return self.fit_PCA().generate_new_features().apply_new_features().fit_base_model()\n",
    "\n",
    "    def predict_proba(self, X):\n",
    "        \"\"\"\n",
    "        Apply pipeline to obtain scores for input data.\n",
    "        \"\"\"\n",
    "        self.X = X.copy()\n",
    "        return self.transform_PCA().apply_new_features().predict_base_model()\n",
    "        \n",
    "    def predict(self, X):\n",
    "        \"\"\"\n",
    "        Apply pipeline to obtain discrete predictions for input data.\n",
    "        \"\"\"\n",
    "        self.X = X.copy()\n",
    "        return np.argmax(self.predict_proba(X), axis=1)"
   ]
  },
  {
   "cell_type": "markdown",
   "metadata": {
    "id": "IS_aGUc_cUW7"
   },
   "source": [
    "Потестируем"
   ]
  },
  {
   "cell_type": "code",
   "execution_count": null,
   "metadata": {
    "colab": {
     "base_uri": "https://localhost:8080/"
    },
    "id": "pwX_M_mvcWKC",
    "outputId": "54971504-4345-43c8-a0c5-7dbf81c51ac8"
   },
   "outputs": [
    {
     "name": "stdout",
     "output_type": "stream",
     "text": [
      "Time:  67.35263681411743\n",
      "RFFPipeline logreg use_PCA=True test  score = 0.8151\n"
     ]
    }
   ],
   "source": [
    "from sklearn.metrics import accuracy_score\n",
    "import time\n",
    "\n",
    "# Возвращает модели с которых делать замеры\n",
    "def get_models():\n",
    "    return [\n",
    "        (\"RFFPipeline logreg use_PCA=True\", RFFPipeline(classifier=\"logreg\")),\n",
    "        # (\"RFFPipeline svm   \", RFFPipeline(classifier=\"svm\")),\n",
    "    ]\n",
    "\n",
    "models = get_models()\n",
    "\n",
    "for model_name, model in models:\n",
    "    start = time.time()\n",
    "    model = model.fit(x_train, y_train)\n",
    "    end = time.time()\n",
    "    print(\"Time: \", end - start)\n",
    "    y_test_pred = model.predict(x_test)\n",
    "    print(model_name, \"test  score =\", accuracy_score(y_test, y_test_pred))\n"
   ]
  },
  {
   "cell_type": "markdown",
   "metadata": {
    "id": "HYqQUEi-K-hU"
   },
   "source": [
    "__Задание 2. (3 балла)__\n",
    "\n",
    "Сравните подход со случайными признаками с обучением SVM на исходных признаках. Попробуйте вариант с обычным (линейным) SVM и с ядровым SVM. Ядровой SVM может очень долго обучаться, поэтому можно делать любые разумные вещи для ускорения: брать подмножество объектов из обучающей выборки, например.\n",
    "\n",
    "Сравните подход со случайными признаками с вариантом, в котором вы понижаете размерность с помощью PCA и обучаете градиентный бустинг. Используйте одну из реализаций CatBoost/LightGBM/XGBoost, не забудьте подобрать число деревьев и длину шага.\n",
    "\n",
    "Сделайте выводы — насколько идея со случайными признаками работает? Сравните как с точки зрения качества, так и с точки зрения скорости обучения и применения."
   ]
  },
  {
   "cell_type": "code",
   "execution_count": null,
   "metadata": {
    "colab": {
     "base_uri": "https://localhost:8080/"
    },
    "id": "qN8LUlJgK-hV",
    "outputId": "14946d86-b8bb-4e2b-a213-0d03f0b251e6"
   },
   "outputs": [
    {
     "name": "stdout",
     "output_type": "stream",
     "text": [
      "SVC lenial test  score = 0.7928\n",
      "Time:  155.1386113166809\n",
      "SVC kernel test  score = 0.853\n",
      "Time:  185.60704708099365\n"
     ]
    }
   ],
   "source": [
    "from sklearn.metrics import accuracy_score\n",
    "import time\n",
    "# Возвращает модели с которых делать замеры\n",
    "def get_models():\n",
    "    return [\n",
    "        (\"SVC lenial\", SVC(kernel=\"linear\", probability=True)),\n",
    "        (\"SVC kernel\", SVC(probability=True)),\n",
    "        # (\"RFFPipeline svm   \", RFFPipeline(classifier=\"svm\")),\n",
    "    ]\n",
    "\n",
    "models = get_models()\n",
    "\n",
    "for model_name, model in models:\n",
    "    sub_size = 10000\n",
    "    i_s = np.random.choice(x_train.shape[0], sub_size)\n",
    "    start = time.time()\n",
    "    model = model.fit(x_train[i_s, :], y_train[i_s])\n",
    "    end = time.time()\n",
    "    y_test_pred = model.predict(x_test)\n",
    "    print(model_name, \"test  score =\", accuracy_score(y_test, y_test_pred))\n",
    "    print(\"Time: \", end - start)\n"
   ]
  },
  {
   "cell_type": "markdown",
   "metadata": {
    "id": "WY99lkoYwizA"
   },
   "source": [
    "**Вывод**: \n",
    "Чтобы хватило терпения дождаться пока отработает SVM пришлось уменьшить train выборку в 6 раз. В итоге все равно работает в 3 рада дольше логистической регрессии. Точность у линейного SVM получилась хуже, а у ядрового SVM получилась лучше чем у логистической регрессии. Похоже на правду, ядровой SVM внутри сам ищет сложные завивимости и строит нелинейное разделение. Логистическая регрессия лучше линейного разделения также потому что она умеет находить более сложные зависимости. "
   ]
  },
  {
   "cell_type": "markdown",
   "metadata": {
    "id": "sygrj5BjXGcx"
   },
   "source": [
    "Переберем параметры для xgboost. Поищем параметры на подвыборке из 10000 элементов"
   ]
  },
  {
   "cell_type": "code",
   "execution_count": null,
   "metadata": {
    "colab": {
     "base_uri": "https://localhost:8080/"
    },
    "id": "KsBkAVPxLhN0",
    "outputId": "1fbbc288-c6e5-4625-aeee-8788f9054ff7"
   },
   "outputs": [
    {
     "name": "stdout",
     "output_type": "stream",
     "text": [
      "num_round = 16\n",
      "\teta = 0.03\n",
      "\t\ttest score = 0.799 time = 7.0715718269348145\n",
      "\teta = 0.1\n",
      "\t\ttest score = 0.8063 time = 6.988680601119995\n",
      "\teta = 0.3\n",
      "\t\ttest score = 0.821 time = 6.819857358932495\n",
      "num_round = 32\n",
      "\teta = 0.03\n",
      "\t\ttest score = 0.8037 time = 13.89285683631897\n",
      "\teta = 0.1\n",
      "\t\ttest score = 0.8184 time = 13.685903787612915\n",
      "\teta = 0.3\n",
      "\t\ttest score = 0.829 time = 13.409934043884277\n",
      "num_round = 64\n",
      "\teta = 0.03\n",
      "\t\ttest score = 0.8128 time = 27.749443531036377\n",
      "\teta = 0.1\n",
      "\t\ttest score = 0.8327 time = 26.86726999282837\n",
      "\teta = 0.3\n",
      "\t\ttest score = 0.8353 time = 25.317675352096558\n",
      "num_round = 128\n",
      "\teta = 0.03\n",
      "\t\ttest score = 0.8259 time = 54.59404420852661\n",
      "\teta = 0.1\n",
      "\t\ttest score = 0.841 time = 52.717243671417236\n",
      "\teta = 0.3\n",
      "\t\ttest score = 0.8407 time = 44.84522223472595\n"
     ]
    }
   ],
   "source": [
    "import xgboost as xgb\n",
    "\n",
    "PCA_model = PCA(n_components=50, copy=True, whiten=True).fit(x_train)\n",
    "\n",
    "sub_size = 10000\n",
    "i_s = np.random.choice(x_train.shape[0], sub_size)\n",
    "\n",
    "dtrain = xgb.DMatrix(data=PCA_model.transform(x_train[i_s, :]), label=y_train[i_s])\n",
    "dtest = xgb.DMatrix(data=PCA_model.transform(x_test), label=y_test)\n",
    "\n",
    "for nr in [16, 32, 64, 128]:\n",
    "    print(\"num_round =\", nr)\n",
    "    for eta in [0.03, 0.1, 0.3]:\n",
    "        print(\"\\teta =\", eta)\n",
    "        param = {'max_depth': 6, 'eta': eta, 'objective': 'multi:softmax', 'num_class': 10, \"eval_metric\": \"merror\", \"subsample\": 0.5}\n",
    "        watchlist = [] #[(dtest, 'test')]\n",
    "        num_round = nr\n",
    "        \n",
    "        start = time.time()\n",
    "        bst = xgb.train(param, dtrain, num_round, watchlist)\n",
    "        end = time.time()\n",
    "\n",
    "        preds = bst.predict(dtest)\n",
    "        y_test_pred = np.array(preds, dtype=int)\n",
    "\n",
    "        print(f\"\\t\\ttest score =\", accuracy_score(y_test, y_test_pred), \"time =\", end - start)"
   ]
  },
  {
   "cell_type": "markdown",
   "metadata": {
    "id": "y9juyKQaXJfm"
   },
   "source": [
    "Лучшие параметры получились  **eta=0.1**, **num_round=64** (128 не сильно точнее, но работает в 2 раза дольше)"
   ]
  },
  {
   "cell_type": "code",
   "execution_count": null,
   "metadata": {
    "colab": {
     "base_uri": "https://localhost:8080/"
    },
    "id": "ekgsXPuaXFJT",
    "outputId": "6d527051-a9e6-4864-d89e-db8265313104"
   },
   "outputs": [
    {
     "name": "stdout",
     "output_type": "stream",
     "text": [
      "xgboost test score = 0.8508\n",
      "Time:  178.90177130699158\n"
     ]
    }
   ],
   "source": [
    "import xgboost as xgb\n",
    "\n",
    "dtrain = xgb.DMatrix(data=PCA_model.transform(x_train), label=y_train)\n",
    "dtest = xgb.DMatrix(data=PCA_model.transform(x_test), label=y_test)\n",
    "\n",
    "param = {'max_depth': 6, 'eta': 0.1, 'objective': 'multi:softmax', 'num_class': 10, \"eval_metric\": \"merror\", \"subsample\": 0.5}\n",
    "num_round = 64\n",
    "        \n",
    "start = time.time()\n",
    "bst = xgb.train(param, dtrain, num_round, watchlist)\n",
    "end = time.time()\n",
    "\n",
    "preds = bst.predict(dtest)\n",
    "y_test_pred = np.array(preds, dtype=int)\n",
    "\n",
    "print(f\"xgboost\", \"test score =\", accuracy_score(y_test, y_test_pred))\n",
    "print(\"Time: \", end - start)"
   ]
  },
  {
   "cell_type": "markdown",
   "metadata": {
    "id": "HiwdgW3iXzRt"
   },
   "source": [
    "**Вывод**:\n",
    "Ядровой SVM получил примерно такую же точность как бустинг. Но при этом обучали мы бустинг на всех данных, а SVM на 15% данных. \n",
    "Точность 0.8 бустинг получает буквально за несколько секунд. Кажется что бустинг потенциально можно было лучше подкрутить. \n",
    "\n",
    "С другой стороны бустинг мы обучали на 50 признаках, а SVM на 1000. Как мы выясним в следующем задании попытка делать меньше признаков в SVM не всегда приносит успех. \n",
    "\n",
    "Также в SVM и бустинге чтобы достичь хорошей точности \"крутить\" нужно разные параметры. Что проще перебирать вопрос философский. Но если положиться на \"накопившуюся мудрость поколений\" и поставить параметры, близкие к параметрам по умолчанию, то бустинг уже работает хорошо и быстрее чем SVM. "
   ]
  },
  {
   "cell_type": "markdown",
   "metadata": {
    "id": "e6umjhWuK-hV"
   },
   "source": [
    "__Задание 3. (2 балла)__\n",
    "\n",
    "Проведите эксперименты:\n",
    "1. Помогает ли предварительное понижение размерности с помощью PCA? \n",
    "2. Как зависит итоговое качество от n_features? Выходит ли оно на плато при росте n_features?\n",
    "3. Важно ли, какую модель обучать — логистическую регрессию или SVM?"
   ]
  },
  {
   "cell_type": "markdown",
   "metadata": {
    "id": "-xHxafBchdfP"
   },
   "source": [
    "1."
   ]
  },
  {
   "cell_type": "code",
   "execution_count": null,
   "metadata": {
    "colab": {
     "base_uri": "https://localhost:8080/"
    },
    "id": "c2QIHIMbK-hW",
    "outputId": "33788b21-969d-4f62-91ce-4c9891f88fcc"
   },
   "outputs": [
    {
     "name": "stdout",
     "output_type": "stream",
     "text": [
      "Time:  65.34850883483887\n",
      "RFFPipeline logreg use_PCA=False test  score = 0.7839\n"
     ]
    }
   ],
   "source": [
    "def get_models():\n",
    "    return \n",
    "\n",
    "models = [(\"RFFPipeline logreg use_PCA=False\", RFFPipeline(classifier=\"logreg\", use_PCA=False))]\n",
    "\n",
    "for model_name, model in models:\n",
    "    start = time.time()\n",
    "    model = model.fit(x_train, y_train)\n",
    "    end = time.time()\n",
    "    print(\"Time: \", end - start)\n",
    "    y_test_pred = model.predict(x_test)\n",
    "    print(model_name, \"test  score =\", accuracy_score(y_test, y_test_pred))\n"
   ]
  },
  {
   "cell_type": "markdown",
   "metadata": {
    "id": "dO7lYvGKa6Ua"
   },
   "source": [
    "**Вывод**: Получили результат хуже чем с PCA. Однозначно понижение размерности это неплохое решение."
   ]
  },
  {
   "cell_type": "markdown",
   "metadata": {
    "id": "EhQ9kBs2iDfc"
   },
   "source": [
    "2."
   ]
  },
  {
   "cell_type": "code",
   "execution_count": null,
   "metadata": {
    "colab": {
     "base_uri": "https://localhost:8080/",
     "height": 393
    },
    "id": "xSIsStcniE7v",
    "outputId": "0426613a-703b-49e5-e931-b250aaa4e225"
   },
   "outputs": [
    {
     "data": {
      "image/png": "[encoded data removed]",
      "text/plain": [
       "<Figure size 1080x432 with 1 Axes>"
      ]
     },
     "metadata": {
      "tags": []
     },
     "output_type": "display_data"
    }
   ],
   "source": [
    "import matplotlib.pyplot as plt\n",
    "\n",
    "fig, ax = plt.subplots(figsize=(15, 6))\n",
    "\n",
    "xs = [100, 250, 500, 1000, 2000, 5000]\n",
    "ys = []\n",
    "\n",
    "ax.set_xscale(\"log\")\n",
    "\n",
    "for n_features in xs: \n",
    "    model = RFFPipeline(classifier=\"logreg\", n_features=n_features)\n",
    "    model = model.fit(x_train, y_train)\n",
    "    y_test_pred = model.predict(x_test)\n",
    "    test_score = accuracy_score(y_test, y_test_pred)\n",
    "    ys.append(test_score)\n",
    "\n",
    "ax.plot(xs, ys)\n",
    "ax.set_xlabel(\"n_features\")\n",
    "ax.set_ylabel(\"Accuracy\")\n",
    "plt.show()"
   ]
  },
  {
   "cell_type": "markdown",
   "metadata": {
    "id": "ibiaqzzObHgV"
   },
   "source": [
    "**Вывод**: Картина интересная. Лучшая точность как раз получается в районе 1000, то что мы использовали в нашей модели. Дальше точность начинает падать, хотя и несильно. Возможно проблема в том что логистическая регрессия не успевает подкрутиться когда признаков слишком много, и как решение можно было бы попробовать увеличить количество итераций для логистической регресии. \n",
    "\n",
    "Итак, с увеличением n_features точность растет, но как видно достаточно хорошо разрулить 1000 признаков, а не лезть тонуть в 5 тысячах, потому что там то же самое."
   ]
  },
  {
   "cell_type": "markdown",
   "metadata": {
    "id": "ZX8wiDRSnGyk"
   },
   "source": [
    "3."
   ]
  },
  {
   "cell_type": "code",
   "execution_count": null,
   "metadata": {
    "colab": {
     "background_save": true
    },
    "id": "CN-4QK6KnHu9",
    "outputId": "2556cf02-78de-4115-a93c-37c420334692"
   },
   "outputs": [
    {
     "data": {
      "image/png": "[encoded data removed]",
      "text/plain": [
       "<Figure size 1080x432 with 1 Axes>"
      ]
     },
     "metadata": {
      "tags": []
     },
     "output_type": "display_data"
    },
    {
     "data": {
      "image/png": "[encoded data removed]",
      "text/plain": [
       "<Figure size 1080x432 with 1 Axes>"
      ]
     },
     "metadata": {
      "tags": []
     },
     "output_type": "display_data"
    }
   ],
   "source": [
    "\n",
    "\n",
    "fig, ax = plt.subplots(figsize=(15, 6))\n",
    "fig_time, ax_time = plt.subplots(figsize=(15, 6))\n",
    "\n",
    "ax.set_xscale(\"log\")\n",
    "ax_time.set_xscale(\"log\")\n",
    "\n",
    "sub_size = 10000\n",
    "i_s = np.random.choice(x_train.shape[0], sub_size)\n",
    "\n",
    "for classifier in [\"svm\", \"logreg\"]:\n",
    "    xs = [250, 500, 1000]\n",
    "    ys = []\n",
    "    ys_time = []\n",
    "\n",
    "    for n_features in xs: \n",
    "        \n",
    "        start = time.time()\n",
    "        model = RFFPipeline(classifier=classifier, n_features=n_features)\n",
    "        model = model.fit(x_train[i_s, :], y_train[i_s])\n",
    "        end = time.time()\n",
    "        y_test_pred = model.predict(x_test)\n",
    "        test_score = accuracy_score(y_test, y_test_pred)\n",
    "        ys.append(test_score)\n",
    "        ys_time.append(end - start)\n",
    "        \n",
    "    ax.plot(xs, ys, label=f\"{classifier}\")\n",
    "    ax_time.plot(xs, ys_time, label=f\"{classifier}\")\n",
    "\n",
    "ax.set_xlabel(\"n_features\")\n",
    "ax.set_ylabel(\"Accuracy\")\n",
    "ax_time.set_xlabel(\"n_features\")\n",
    "ax_time.set_ylabel(\"Time\")\n",
    "ax.legend()\n",
    "ax_time.legend()\n",
    "fig.show()\n",
    "fig_time.show()"
   ]
  },
  {
   "cell_type": "markdown",
   "metadata": {
    "id": "cPQX8XClzSbq"
   },
   "source": [
    "**Вывод**: SVM работает долго, и стабильно хуже. Это видно на графиках выше. В данном случае логистическая регрессия справилась лучше."
   ]
  },
  {
   "cell_type": "markdown",
   "metadata": {
    "id": "CJqXVuasK-hW"
   },
   "source": [
    "### Бонус"
   ]
  },
  {
   "cell_type": "markdown",
   "metadata": {
    "id": "QVDWHCdrK-hX"
   },
   "source": [
    "__Задание 4. (Максимум 2 балла)__\n",
    "\n",
    "Как вы, должно быть, помните с курса МО-1, многие алгоритмы машинного обучения работают лучше, если признаки данных некоррелированы. Оказывается, что для RFF существует модификация, позволяющая получать ортогональные случайные признаки (Orthogonal Random Features, ORF). Об этом методе можно прочитать в [статье](https://proceedings.neurips.cc/paper/2016/file/53adaf494dc89ef7196d73636eb2451b-Paper.pdf). Реализуйте класс для вычисления ORF по аналогии с основным заданием. Обратите внимание, что ваш класс должен уметь работать со случаем n_features > new_dim (в статье есть замечание на этот счет). Проведите эксперименты, сравнивающие RFF и ORF, сделайте выводы."
   ]
  },
  {
   "cell_type": "code",
   "execution_count": 14,
   "metadata": {
    "id": "HSxvGI9iK-hX"
   },
   "outputs": [],
   "source": [
    "class ORFPipeline(RFFPipeline):\n",
    "    def generate_new_features_batch(self, d):\n",
    "        S = np.sqrt(np.random.chisquare(d, size=d))\n",
    "        Q, _ = np.linalg.qr(np.random.normal(0, 1, size=(d, d)))\n",
    "        return np.dot(np.diag(S), Q)\n",
    "\n",
    "    def generate_new_features(self):\n",
    "        self.sigma = self.get_sigma()\n",
    "        \n",
    "        D = self.n_features\n",
    "        d = self.X.shape[1]\n",
    "        self.features_w = None\n",
    "\n",
    "        while D > 0:\n",
    "            add = min(D, d)\n",
    "            cur = self.generate_new_features_batch(d)[0:add, :]\n",
    "            if not (self.features_w is None):\n",
    "                self.features_w = np.append(self.features_w, cur, axis=0)\n",
    "            else:\n",
    "                self.features_w = cur\n",
    "            D -= add\n",
    "\n",
    "        self.features_w /= self.sigma\n",
    "        self.features_b = np.random.uniform(-np.pi, np.pi, size=self.n_features)\n",
    "        return self\n",
    "    \n",
    "    def apply_new_features(self):\n",
    "        self.X = np.cos(np.dot(self.X, self.features_w.T) + self.features_b)\n",
    "        return self"
   ]
  },
  {
   "cell_type": "code",
   "execution_count": 13,
   "metadata": {
    "colab": {
     "base_uri": "https://localhost:8080/"
    },
    "id": "SSgfGBr3exdD",
    "outputId": "f26f269d-e71e-42c2-c092-0b8092b90bd1"
   },
   "outputs": [
    {
     "name": "stdout",
     "output_type": "stream",
     "text": [
      "Time:  64.11074209213257\n",
      "OFFPipeline test  score = 0.8143\n"
     ]
    }
   ],
   "source": [
    "from sklearn.metrics import accuracy_score\n",
    "import time\n",
    "\n",
    "# Возвращает модели с которых делать замеры\n",
    "def get_models():\n",
    "    return [\n",
    "        (\"OFFPipeline\", ORFPipeline()),\n",
    "        # (\"RFFPipeline svm   \", RFFPipeline(classifier=\"svm\")),\n",
    "    ]\n",
    "\n",
    "models = get_models()\n",
    "\n",
    "for model_name, model in models:\n",
    "    start = time.time()\n",
    "    model = model.fit(x_train, y_train)\n",
    "    end = time.time()\n",
    "    print(\"Time: \", end - start)\n",
    "    y_test_pred = model.predict(x_test)\n",
    "    print(model_name, \"test  score =\", accuracy_score(y_test, y_test_pred))\n"
   ]
  },
  {
   "cell_type": "code",
   "execution_count": 17,
   "metadata": {
    "colab": {
     "base_uri": "https://localhost:8080/",
     "height": 769
    },
    "id": "o1vvp8WLg4wi",
    "outputId": "711624c8-b647-4ff6-deb7-c3e66235b2eb"
   },
   "outputs": [
    {
     "data": {
      "image/png": "[encoded data removed]",
      "text/plain": [
       "<Figure size 1080x432 with 1 Axes>"
      ]
     },
     "metadata": {
      "needs_background": "light",
      "tags": []
     },
     "output_type": "display_data"
    },
    {
     "data": {
      "image/png": "[encoded data removed]",
      "text/plain": [
       "<Figure size 1080x432 with 1 Axes>"
      ]
     },
     "metadata": {
      "needs_background": "light",
      "tags": []
     },
     "output_type": "display_data"
    }
   ],
   "source": [
    "fig, ax = plt.subplots(figsize=(15, 6))\n",
    "fig_time, ax_time = plt.subplots(figsize=(15, 6))\n",
    "\n",
    "ax.set_xscale(\"log\")\n",
    "ax_time.set_xscale(\"log\")\n",
    "\n",
    "models = [\n",
    "    (\"RFF\", RFFPipeline),\n",
    "    (\"ORF\", ORFPipeline)\n",
    "]\n",
    "for name, model_name in models:\n",
    "    xs = [100, 250, 500, 1000]\n",
    "    ys = []\n",
    "    ys_time = []\n",
    "\n",
    "    for n_features in xs: \n",
    "        start = time.time()\n",
    "        model = model_name(n_features=n_features)\n",
    "        model = model.fit(x_train, y_train)\n",
    "        end = time.time()\n",
    "        y_test_pred = model.predict(x_test)\n",
    "        test_score = accuracy_score(y_test, y_test_pred)\n",
    "        ys.append(test_score)\n",
    "        ys_time.append(end - start)\n",
    "        \n",
    "    ax.plot(xs, ys, label=f\"{name}\")\n",
    "    ax_time.plot(xs, ys_time, label=f\"{name}\")\n",
    "\n",
    "ax.set_xlabel(\"n_features\")\n",
    "ax.set_ylabel(\"Accuracy test\")\n",
    "ax_time.set_xlabel(\"n_features\")\n",
    "ax_time.set_ylabel(\"Time\")\n",
    "ax.legend()\n",
    "ax_time.legend()\n",
    "fig.show()\n",
    "fig_time.show()"
   ]
  },
  {
   "cell_type": "markdown",
   "metadata": {
    "id": "mwAEdYmwjEsZ"
   },
   "source": [
    "**Вывод**: ORF дает лучше точность при меньшем количестве новых фич. Начиная с 1000 разница перестает быть заметна. По времени обучения примерно одинаково."
   ]
  },
  {
   "cell_type": "markdown",
   "metadata": {
    "id": "4pc7-1jmK-hY"
   },
   "source": [
    "__Задание 5. (Максимум 2 балла)__\n",
    "\n",
    "Поэкспериментируйте с функциями для вычисления новых случайных признаков. Не обязательно использовать косинус от скалярного произведения — можно брать знак от него, хэш и т.д. Придумайте побольше вариантов для генерации признаков и проверьте, не получается ли с их помощью добиваться более высокого качества. Также можете попробовать другой классификатор поверх случайных признаков, сравните результаты."
   ]
  },
  {
   "cell_type": "code",
   "execution_count": 21,
   "metadata": {
    "id": "dWj-O2vjK-hY"
   },
   "outputs": [],
   "source": [
    "class RFFPipelineUpdated(RFFPipeline):\n",
    "    def __init__(self, n_features=1000, new_dim=50, use_PCA=True, classifier='logreg', new_features_transformer=np.cos):\n",
    "        super(RFFPipelineUpdated, self).__init__(n_features=1000, new_dim=50, use_PCA=True, classifier='logreg')  \n",
    "        self.new_features_transformer = new_features_transformer\n",
    "    \n",
    "    def apply_new_features(self):\n",
    "        self.X = self.new_features_transformer(np.dot(self.X, self.features_w.T) + self.features_b)\n",
    "        return self\n",
    "\n",
    "class RFFPipelineUpdatedExtended(RFFPipeline):\n",
    "    def __init__(self, n_features=1000, new_dim=50, use_PCA=True, classifier='logreg', new_features_transformer=np.cos):\n",
    "        super(RFFPipelineUpdatedExtended, self).__init__(n_features=1000, new_dim=50, use_PCA=True, classifier='logreg')  \n",
    "        self.new_features_transformer = new_features_transformer\n",
    "    \n",
    "    def apply_new_features(self):\n",
    "        self.X = self.new_features_transformer(np.dot(self.X, self.features_w.T), self.features_b)\n",
    "        return self"
   ]
  },
  {
   "cell_type": "code",
   "execution_count": 23,
   "metadata": {
    "colab": {
     "base_uri": "https://localhost:8080/",
     "height": 390
    },
    "id": "7TGv6xD4y4vy",
    "outputId": "456e0ad8-e015-4550-b19e-46a32792eefe"
   },
   "outputs": [
    {
     "name": "stdout",
     "output_type": "stream",
     "text": [
      "signed sqr, no b\n"
     ]
    },
    {
     "data": {
      "text/html": [
       "<div>\n",
       "<style scoped>\n",
       "    .dataframe tbody tr th:only-of-type {\n",
       "        vertical-align: middle;\n",
       "    }\n",
       "\n",
       "    .dataframe tbody tr th {\n",
       "        vertical-align: top;\n",
       "    }\n",
       "\n",
       "    .dataframe thead th {\n",
       "        text-align: right;\n",
       "    }\n",
       "</style>\n",
       "<table border=\"1\" class=\"dataframe\">\n",
       "  <thead>\n",
       "    <tr style=\"text-align: right;\">\n",
       "      <th></th>\n",
       "      <th>Feature name</th>\n",
       "      <th>Accuracy train</th>\n",
       "      <th>Accuracy test</th>\n",
       "      <th>Train time</th>\n",
       "    </tr>\n",
       "  </thead>\n",
       "  <tbody>\n",
       "    <tr>\n",
       "      <th>0</th>\n",
       "      <td>sign</td>\n",
       "      <td>0.585250</td>\n",
       "      <td>0.5795</td>\n",
       "      <td>67.783567</td>\n",
       "    </tr>\n",
       "    <tr>\n",
       "      <th>1</th>\n",
       "      <td>expit</td>\n",
       "      <td>0.819050</td>\n",
       "      <td>0.8075</td>\n",
       "      <td>67.988628</td>\n",
       "    </tr>\n",
       "    <tr>\n",
       "      <th>2</th>\n",
       "      <td>arctan</td>\n",
       "      <td>0.816583</td>\n",
       "      <td>0.8048</td>\n",
       "      <td>67.308063</td>\n",
       "    </tr>\n",
       "    <tr>\n",
       "      <th>3</th>\n",
       "      <td>signed sqrt</td>\n",
       "      <td>0.815950</td>\n",
       "      <td>0.8025</td>\n",
       "      <td>66.434975</td>\n",
       "    </tr>\n",
       "    <tr>\n",
       "      <th>4</th>\n",
       "      <td>signed sqr</td>\n",
       "      <td>0.825917</td>\n",
       "      <td>0.8156</td>\n",
       "      <td>66.879897</td>\n",
       "    </tr>\n",
       "    <tr>\n",
       "      <th>5</th>\n",
       "      <td>signed log</td>\n",
       "      <td>0.799133</td>\n",
       "      <td>0.7833</td>\n",
       "      <td>68.286261</td>\n",
       "    </tr>\n",
       "    <tr>\n",
       "      <th>6</th>\n",
       "      <td>signed exp</td>\n",
       "      <td>0.821583</td>\n",
       "      <td>0.8093</td>\n",
       "      <td>67.275313</td>\n",
       "    </tr>\n",
       "    <tr>\n",
       "      <th>7</th>\n",
       "      <td>power 3</td>\n",
       "      <td>0.820800</td>\n",
       "      <td>0.8079</td>\n",
       "      <td>71.319558</td>\n",
       "    </tr>\n",
       "    <tr>\n",
       "      <th>8</th>\n",
       "      <td>no transform</td>\n",
       "      <td>0.822717</td>\n",
       "      <td>0.8090</td>\n",
       "      <td>65.066599</td>\n",
       "    </tr>\n",
       "    <tr>\n",
       "      <th>9</th>\n",
       "      <td>no b</td>\n",
       "      <td>0.838733</td>\n",
       "      <td>0.8260</td>\n",
       "      <td>68.980891</td>\n",
       "    </tr>\n",
       "    <tr>\n",
       "      <th>10</th>\n",
       "      <td>signed sqr, no b</td>\n",
       "      <td>0.828283</td>\n",
       "      <td>0.8160</td>\n",
       "      <td>71.482821</td>\n",
       "    </tr>\n",
       "  </tbody>\n",
       "</table>\n",
       "</div>"
      ],
      "text/plain": [
       "        Feature name  Accuracy train  Accuracy test  Train time\n",
       "0               sign        0.585250         0.5795   67.783567\n",
       "1              expit        0.819050         0.8075   67.988628\n",
       "2             arctan        0.816583         0.8048   67.308063\n",
       "3        signed sqrt        0.815950         0.8025   66.434975\n",
       "4         signed sqr        0.825917         0.8156   66.879897\n",
       "5         signed log        0.799133         0.7833   68.286261\n",
       "6         signed exp        0.821583         0.8093   67.275313\n",
       "7            power 3        0.820800         0.8079   71.319558\n",
       "8       no transform        0.822717         0.8090   65.066599\n",
       "9               no b        0.838733         0.8260   68.980891\n",
       "10  signed sqr, no b        0.828283         0.8160   71.482821"
      ]
     },
     "execution_count": 23,
     "metadata": {
      "tags": []
     },
     "output_type": "execute_result"
    }
   ],
   "source": [
    "import pandas as pd\n",
    "from scipy.special import expit\n",
    "\n",
    "#results = pd.DataFrame(columns=[\"Feature name\", \"Accuracy train\", \"Accuracy test\", \"Train time\"])\n",
    "\n",
    "models = [\n",
    "    #(\"sign\", RFFPipelineUpdated(new_features_transformer=np.sign)),\n",
    "    #(\"expit\", RFFPipelineUpdated(new_features_transformer=expit)),\n",
    "    #(\"arctan\", RFFPipelineUpdated(new_features_transformer=np.arctan)),\n",
    "    #(\"signed sqrt\", RFFPipelineUpdated(new_features_transformer=lambda x: np.sign(x) * np.sqrt(np.abs(x)))),\n",
    "    #(\"signed sqr\", RFFPipelineUpdated(new_features_transformer=lambda x: np.sign(x) * (x ** 2))),\n",
    "    #(\"signed log\", RFFPipelineUpdated(new_features_transformer=lambda x: np.sign(x) * (np.log(np.abs(x))))),\n",
    "    #(\"signed exp\", RFFPipelineUpdated(new_features_transformer=lambda x: np.sign(x) * (np.exp(np.abs(x))))),\n",
    "    #(\"power 3\", RFFPipelineUpdated(new_features_transformer=lambda x: x ** 3)),\n",
    "    #(\"no transform\", RFFPipelineUpdated(new_features_transformer=lambda x: x)),\n",
    "    #(\"no b\", RFFPipelineUpdatedExtended(new_features_transformer=lambda x, b: x)),\n",
    "    #(\"signed sqr, no b\", RFFPipelineUpdatedExtended(new_features_transformer=lambda x, b: np.sign(x) * (x ** 2))),\n",
    "]\n",
    "\n",
    "for feature_name, model in models:\n",
    "    print(feature_name)\n",
    "    start = time.time()\n",
    "    model = model.fit(x_train, y_train)\n",
    "    end = time.time()\n",
    "    test_score = accuracy_score(y_test, model.predict(x_test))\n",
    "    train_score = accuracy_score(y_train, model.predict(x_train))\n",
    "    add = {\n",
    "        \"Feature name\": feature_name, \n",
    "        \"Accuracy train\": train_score, \n",
    "        \"Accuracy test\": test_score, \n",
    "        \"Train time\": end - start,\n",
    "    }\n",
    "    results = results.append(add, ignore_index=True)\n",
    "\n",
    "results"
   ]
  },
  {
   "cell_type": "markdown",
   "metadata": {
    "id": "V4k4_daG4ntk"
   },
   "source": [
    "**Вывод**: Результат улучшился от начального (~0.815) примерно на 0.01. Сработало генерировать новые фичи как просто линейная комбинация существующих (в таблице \"no b\")."
   ]
  },
  {
   "cell_type": "code",
   "execution_count": null,
   "metadata": {
    "id": "8f159YBa3JXO"
   },
   "outputs": [],
   "source": []
  }
 ],
 "metadata": {
  "accelerator": "TPU",
  "colab": {
   "collapsed_sections": [],
   "name": "Copy of homework-practice-08-random-features.ipynb",
   "provenance": []
  },
  "kernelspec": {
   "display_name": "Python 2",
   "language": "python",
   "name": "python2"
  },
  "language_info": {
   "codemirror_mode": {
    "name": "ipython",
    "version": 2
   },
   "file_extension": ".py",
   "mimetype": "text/x-python",
   "name": "python",
   "nbconvert_exporter": "python",
   "pygments_lexer": "ipython2",
   "version": "2.7.6"
  }
 },
 "nbformat": 4,
 "nbformat_minor": 1
}
