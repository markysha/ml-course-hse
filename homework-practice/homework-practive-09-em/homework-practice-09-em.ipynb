{
 "cells": [
  {
   "cell_type": "markdown",
   "metadata": {
    "id": "0Ey1cDuPZ0K4"
   },
   "source": [
    "# Машинное обучение, ФКН ВШЭ\n",
    "\n",
    "# Практическое задание 9. EM-алгоритм\n",
    "\n",
    "## Общая информация\n",
    "Дата выдачи: 24.02.2021\n",
    "\n",
    "Мягкий дедлайн: 09.03.2021 01:59 MSK\n",
    "\n",
    "Жёсткий дедлайн: 13.03.2021 01:59 MSK\n",
    "\n",
    "## Оценивание и штрафы\n",
    "Каждая из задач имеет определенную «стоимость» (указана в скобках около задачи). Максимальная оценка за работу (без учёта бонусов) — 15 баллов.\n",
    "\n",
    "Сдавать задание после указанного жёсткого срока сдачи нельзя. При выставлении неполного балла за задание в связи с наличием ошибок на усмотрение проверяющего предусмотрена возможность исправить работу на указанных в ответном письме условиях.\n",
    "\n",
    "Задание выполняется самостоятельно. «Похожие» решения считаются плагиатом и все задействованные студенты (в том числе те, у кого списали) не могут получить за него больше 0 баллов (подробнее о плагиате см. на странице курса). Если вы нашли решение какого-то из заданий (или его часть) в открытом источнике, необходимо указать ссылку на этот источник в отдельном блоке в конце вашей работы (скорее всего вы будете не единственным, кто это нашел, поэтому чтобы исключить подозрение в плагиате, необходима ссылка на источник).\n",
    "\n",
    "Неэффективная реализация кода может негативно отразиться на оценке.\n",
    "\n",
    "## Формат сдачи\n",
    "Задания сдаются через систему anytask. Посылка должна содержать:\n",
    "* Ноутбук homework-practice-09-em-Username.ipynb\n",
    "* Модули preprocessing.py, metrics.py, models.py, содержащие написанный вами код\n",
    "* Ссылки на посылки в Яндекс.Контест для всех функций и классов, которые вы реализовали\n",
    "\n",
    "Ссылка на Яндекс.Контест: TBA\n",
    "\n",
    "Username — ваша фамилия и имя на латинице именно в таком порядке\n",
    "\n",
    "---"
   ]
  },
  {
   "cell_type": "code",
   "execution_count": 6,
   "metadata": {
    "colab": {
     "base_uri": "https://localhost:8080/"
    },
    "executionInfo": {
     "elapsed": 17764,
     "status": "ok",
     "timestamp": 1615493120299,
     "user": {
      "displayName": "Mark Korneychik",
      "photoUrl": "https://lh3.googleusercontent.com/a-/AOh14Gg2t_tx2VGHfVCy-uAWu1hS00L7lmmABIBdLlzY=s64",
      "userId": "06449057774039502694"
     },
     "user_tz": -180
    },
    "id": "UDL_kQi6btXw",
    "outputId": "afc4abbd-bb8d-47fc-d733-68167bdf81a6"
   },
   "outputs": [
    {
     "name": "stdout",
     "output_type": "stream",
     "text": [
      "Mounted at /content/drive\n"
     ]
    }
   ],
   "source": [
    "from google.colab import drive\n",
    "drive.mount('/content/drive')"
   ]
  },
  {
   "cell_type": "code",
   "execution_count": 7,
   "metadata": {
    "executionInfo": {
     "elapsed": 17471,
     "status": "ok",
     "timestamp": 1615493120300,
     "user": {
      "displayName": "Mark Korneychik",
      "photoUrl": "https://lh3.googleusercontent.com/a-/AOh14Gg2t_tx2VGHfVCy-uAWu1hS00L7lmmABIBdLlzY=s64",
      "userId": "06449057774039502694"
     },
     "user_tz": -180
    },
    "id": "wmvbTMfpczV2"
   },
   "outputs": [],
   "source": [
    "DRIVE_PREFIX = \"/content/drive/MyDrive/Colab Notebooks/homework-practice-09-em/\""
   ]
  },
  {
   "cell_type": "markdown",
   "metadata": {
    "id": "4ysEXhHpZ0LD"
   },
   "source": [
    "# Generative model of Labels, Abilities, and Difficulties (GLAD)\n",
    "\n",
    "В [семинаре 15](https://github.com/esokolov/ml-course-hse/blob/master/2020-spring/seminars/sem15-em.pdf) мы рассмотрели задачу восстановления истинной разметки по меткам от экспертов (которым мы не можем доверять в полной мере, более того, их предсказания могут расходиться).\n",
    "\n",
    "Рассмотрим следующую вероятностную модель:\n",
    "\n",
    "$$ p(L, Z | \\alpha, \\beta) = \\prod_{i=1}^{n} \\prod_{j=1}^m \\sigma(\\alpha_j\\beta_i)^{[l_{ij}=z_i]}\\sigma(-\\alpha_j\\beta_i)^{1-[l_{ij}=z_i]} p(z_j)$$\n",
    "\n",
    "где $l_{ij} -$ ответ $j$-го эксперта на задачу $i$, $z_j -$ истинная разметка, $\\alpha_i, \\beta_j-$ уровень экспертизы и сложность задачи соответственно. Для более подробного описания модели можно прочитать материалы семинара, а также [оригинальную статью](http://papers.nips.cc/paper/3644-whose-vote-should-count-more-optimal-integration-of-labels-from-labelers-of-unknown-expertise.pdf). Априорное распределение положим равномерным: $p(z_i) = 0.5$."
   ]
  },
  {
   "cell_type": "code",
   "execution_count": 4,
   "metadata": {
    "executionInfo": {
     "elapsed": 1116,
     "status": "ok",
     "timestamp": 1615406523337,
     "user": {
      "displayName": "Mark Korneychik",
      "photoUrl": "https://lh3.googleusercontent.com/a-/AOh14Gg2t_tx2VGHfVCy-uAWu1hS00L7lmmABIBdLlzY=s64",
      "userId": "06449057774039502694"
     },
     "user_tz": -180
    },
    "id": "_jIJwO2wZ0LF"
   },
   "outputs": [],
   "source": [
    "import numpy as np\n",
    "seed = 0xDEADF00D\n",
    "np.random.seed(seed)"
   ]
  },
  {
   "cell_type": "code",
   "execution_count": 5,
   "metadata": {
    "colab": {
     "base_uri": "https://localhost:8080/"
    },
    "executionInfo": {
     "elapsed": 1332,
     "status": "ok",
     "timestamp": 1615406525215,
     "user": {
      "displayName": "Mark Korneychik",
      "photoUrl": "https://lh3.googleusercontent.com/a-/AOh14Gg2t_tx2VGHfVCy-uAWu1hS00L7lmmABIBdLlzY=s64",
      "userId": "06449057774039502694"
     },
     "user_tz": -180
    },
    "id": "FehtE4GiZ0LG",
    "outputId": "0f303e4c-4ee3-45b2-96e3-c6d64f02d1da"
   },
   "outputs": [
    {
     "name": "stdout",
     "output_type": "stream",
     "text": [
      "2000 20\n"
     ]
    }
   ],
   "source": [
    "L = np.load(f'{DRIVE_PREFIX}L.npy')\n",
    "n, m = L.shape\n",
    "\n",
    "print(n, m)"
   ]
  },
  {
   "cell_type": "markdown",
   "metadata": {
    "id": "8Qm3NpumZ0LG"
   },
   "source": [
    "**Задание 1. (2 балла)** Реализуйте EM-алгоритм для заданной выше модели. Вы можете воспользоваться предложенными шаблонами или написать свои. \n",
    "\n",
    "Обратите внимание, что правдоподобие моделирует не вероятность метки $l_{ij}$ принять значение 1 или 0, а вероятность того, что она равна скрытой переменной $z_i$, т.е. $p(l_{ij} = z_j|z_j, \\alpha_j, \\beta_i) \\neq p(l_{ij} = 1|\\alpha_j, \\beta_i) $. При этом заранее неизвестно, какая из скрытых переменных соответствует метке 1. Не забывайте, что параметры $\\beta_i$ должны быть неотрицательными; для этого оптимизируйте $\\log \\beta$. На M-шаге можете использовать как один шаг градиентного спуска, так и несколько: разумные результаты у вас должны получаться вне зависимости от числа итераций.\n",
    "\n",
    "Также при работе с вероятностями не забывайте о точности:\n",
    "1. Используйте логарифмы вероятностей.\n",
    "2. $\\log \\sigma(a)$ лучше преобразовать в $\\log \\sigma(a) = -\\log(1 + \\exp(-a)) = -\\mathrm{softplus}(-a) $\n",
    "3. Ещё полезные функции: `scipy.special.expit`, `scipy.special.logsumexp`, `np.log1p`\n",
    "\n",
    "Для отладки может быть полезно проверить градиент с помощью `scipy.optimize.check_grad`."
   ]
  },
  {
   "cell_type": "code",
   "execution_count": 6,
   "metadata": {
    "executionInfo": {
     "elapsed": 530,
     "status": "ok",
     "timestamp": 1615406527412,
     "user": {
      "displayName": "Mark Korneychik",
      "photoUrl": "https://lh3.googleusercontent.com/a-/AOh14Gg2t_tx2VGHfVCy-uAWu1hS00L7lmmABIBdLlzY=s64",
      "userId": "06449057774039502694"
     },
     "user_tz": -180
    },
    "id": "59Sugzr9Z0LH"
   },
   "outputs": [],
   "source": [
    "def softplus(x):\n",
    "    '''stable version of log(1 + exp(x))'''\n",
    "    c = (x > 20) * 1.\n",
    "    return np.log1p(np.exp(x * (1-c)) * (1-c)) + x * c"
   ]
  },
  {
   "cell_type": "code",
   "execution_count": 8,
   "metadata": {
    "executionInfo": {
     "elapsed": 597,
     "status": "ok",
     "timestamp": 1615406566663,
     "user": {
      "displayName": "Mark Korneychik",
      "photoUrl": "https://lh3.googleusercontent.com/a-/AOh14Gg2t_tx2VGHfVCy-uAWu1hS00L7lmmABIBdLlzY=s64",
      "userId": "06449057774039502694"
     },
     "user_tz": -180
    },
    "id": "F6jRycGsZ0LI"
   },
   "outputs": [],
   "source": [
    "from scipy.special import expit, logsumexp \n",
    "\n",
    "# expit(x) = 1 / (1 + exp(-x))\n",
    "# logsumexp(a) = np.log(np.sum(np.exp(a)))\n",
    "\n",
    "def posterior(alpha, beta, L):\n",
    "    \"\"\" Posterior over true labels z p(z|l, \\alpha, \\beta)\n",
    "    Args:\n",
    "        alpha: ndarray of shape (n_experts).\n",
    "        beta: ndarray of shape (n_problems).\n",
    "        L: ndarray of shape (n_problems, n_experts).\n",
    "    \"\"\"\n",
    "    beta_alpha = np.outer(beta, alpha)\n",
    "    log_beta_alpha_expit = -softplus(-beta_alpha)\n",
    "    log_minus_beta_alpha_expit = -softplus(beta_alpha)\n",
    "\n",
    "    L_ = np.bitwise_xor(L, 1)\n",
    "\n",
    "    qs = np.array([\n",
    "        np.sum((log_beta_alpha_expit * L_) + (log_minus_beta_alpha_expit * L), axis=1),\n",
    "        np.sum((log_beta_alpha_expit * L) + (log_minus_beta_alpha_expit * L_), axis=1),\n",
    "    ])\n",
    "    qs += np.log(0.5)\n",
    "    qs = np.exp(qs)\n",
    "\n",
    "    assert qs.shape == (2, n) and np.sum(qs, axis=0).shape == (n, )\n",
    "\n",
    "    return qs * 1.0 / np.sum(qs, axis=0)\n",
    "\n",
    "def log_likelihood(alpha, beta, L, z):\n",
    "    \"\"\" p(l=z|z, \\alpha, \\beta)\n",
    "    Args:\n",
    "        alpha: ndarray of shape (n_experts).\n",
    "        beta: ndarray of shape (n_problems).\n",
    "        L: ndarray of shape (n_problems, n_experts).\n",
    "        z: ndarray of shape (n_problems).\n",
    "    \"\"\"\n",
    "    beta_alpha = np.outer(beta, alpha)\n",
    "    teta = np.log(np.array([0.5, 0.5]))\n",
    "\n",
    "    return -softplus(-beta_alpha)\n",
    "\n",
    "\n",
    "def alpha_grad_lb(alpha, beta, L, q):\n",
    "    \"\"\" Gradient of lower bound wrt alpha\n",
    "    Args:\n",
    "        alpha: ndarray of shape (n_experts).\n",
    "        beta: ndarray of shape (n_problems).\n",
    "        L: ndarray of shape (n_problems, n_experts).\n",
    "        q: ndarray of shape (2, n_problems).\n",
    "    \"\"\"\n",
    "    beta_alpha = np.outer(beta, alpha) # shape (n, m)\n",
    "    beta_alpha_expit = expit(beta_alpha) # shape (n, m) \n",
    "    minus_beta_alpha_expit = expit(-beta_alpha) # shape (n, m)\n",
    "\n",
    "    L_ = np.bitwise_xor(L, 1) # shape (n, m)\n",
    "\n",
    "    inner = np.array([\n",
    "        (minus_beta_alpha_expit * L_) - (beta_alpha_expit * L),\n",
    "        (minus_beta_alpha_expit * L) - (beta_alpha_expit * L_),\n",
    "    ]) # shape (2, n, m)\n",
    "\n",
    "    grads = np.array([\n",
    "        np.sum((inner[0].T * beta * q[0]).T, axis=0),\n",
    "        np.sum((inner[1].T * beta * q[1]).T, axis=0),\n",
    "    ])\n",
    "\n",
    "    assert grads.shape == (2, m)\n",
    "\n",
    "    return np.sum(grads, axis=0)\n",
    "\n",
    "\n",
    "def logbeta_grad_lb(alpha, beta, L, q):\n",
    "    \"\"\" Gradient of lower bound wrt alpha\n",
    "    Args:\n",
    "        alpha: ndarray of shape (n_experts).\n",
    "        beta: ndarray of shape (n_problems).\n",
    "        L: ndarray of shape (n_problems, n_experts).\n",
    "        q: ndarray of shape (2, n_problems).\n",
    "    \"\"\"\n",
    "    beta_alpha = np.outer(beta, alpha)\n",
    "    beta_alpha_expit = expit(beta_alpha)\n",
    "    minus_beta_alpha_expit = expit(-beta_alpha)\n",
    "\n",
    "    L_ = np.bitwise_xor(L, 1)\n",
    "\n",
    "    inner = np.array([\n",
    "        (minus_beta_alpha_expit * L_) - (beta_alpha_expit * L),\n",
    "        (minus_beta_alpha_expit * L) - (beta_alpha_expit * L_),\n",
    "    ]) # shape (2, n, m)\n",
    "\n",
    "    grads = np.array([\n",
    "        np.sum(((inner[0] * alpha).T * q[0]).T, axis=1),\n",
    "        np.sum(((inner[1] * alpha).T * q[1]).T, axis=1),\n",
    "    ])\n",
    "\n",
    "    assert grads.shape == (2, n)\n",
    "\n",
    "    return beta * np.sum(grads, axis=0)\n",
    "\n",
    "\n",
    "def lower_bound(alpha, beta, L, q, iter = 10, lr = 1e-3):\n",
    "    \"\"\" Lower bound\n",
    "    Args:\n",
    "        alpha: ndarray of shape (n_experts).\n",
    "        beta: ndarray of shape (n_problems).\n",
    "        L: ndarray of shape (n_problems, n_experts).\n",
    "        q: ndarray of shape (2, n_problems).\n",
    "    \"\"\"\n",
    "    for i in range(iter):\n",
    "        alpha = alpha + lr * alpha_grad_lb(alpha, beta, L, q)\n",
    "        beta = beta + lr * np.exp(logbeta_grad_lb(alpha, beta, L, q))\n",
    "    \n",
    "    assert np.all(beta >= 0)\n",
    "    # print(\"beta = \", beta)\n",
    "\n",
    "    return (alpha.copy(), beta.copy())"
   ]
  },
  {
   "cell_type": "code",
   "execution_count": 90,
   "metadata": {
    "executionInfo": {
     "elapsed": 483,
     "status": "ok",
     "timestamp": 1615410487467,
     "user": {
      "displayName": "Mark Korneychik",
      "photoUrl": "https://lh3.googleusercontent.com/a-/AOh14Gg2t_tx2VGHfVCy-uAWu1hS00L7lmmABIBdLlzY=s64",
      "userId": "06449057774039502694"
     },
     "user_tz": -180
    },
    "id": "GFMe__ngZ0LJ"
   },
   "outputs": [],
   "source": [
    "def em(L, n_steps=1000, lr=1e-3, verbose=None, validate=False):\n",
    "    # initialize parameters\n",
    "    alpha, logbeta = np.random.randn(m), np.random.randn(n) #np.random.uniform(0, 1, size = (n, ))\n",
    "    q = np.ones((2, len(logbeta))) * 0.5\n",
    "\n",
    "    for step in range(n_steps):\n",
    "        if verbose and (step + 1) % verbose == 0:\n",
    "            print(\"step =\", step)\n",
    "            if validate:\n",
    "                print(\"accuracy EM =\", accuracy_score(y, np.argmax(q,axis=0)))\n",
    "                \n",
    "        q = posterior(alpha, np.exp(logbeta), L)\n",
    "        alpha, logbeta = lower_bound(alpha, np.exp(logbeta), L, q, 40, lr)\n",
    "        logbeta = np.log(logbeta)\n",
    "\n",
    "    #print(alpha, \"\\n\", np.exp(logbeta))\n",
    "    return alpha, np.exp(logbeta), q"
   ]
  },
  {
   "cell_type": "code",
   "execution_count": 30,
   "metadata": {
    "colab": {
     "base_uri": "https://localhost:8080/"
    },
    "executionInfo": {
     "elapsed": 48333,
     "status": "ok",
     "timestamp": 1615407003911,
     "user": {
      "displayName": "Mark Korneychik",
      "photoUrl": "https://lh3.googleusercontent.com/a-/AOh14Gg2t_tx2VGHfVCy-uAWu1hS00L7lmmABIBdLlzY=s64",
      "userId": "06449057774039502694"
     },
     "user_tz": -180
    },
    "id": "HqsAfpVZZ0LJ",
    "outputId": "f5cb5955-f444-40d6-eb5d-7eac05aea125"
   },
   "outputs": [
    {
     "name": "stdout",
     "output_type": "stream",
     "text": [
      "step = 49\n",
      "step = 99\n",
      "step = 149\n",
      "step = 199\n",
      "[ 0.18916642  0.22440847  0.76598695  0.17552828  0.19852475  0.78920615\n",
      "  0.19161006  0.73018178 -0.74178837  0.19245336 -0.77758118 -0.80183738\n",
      "  0.7644787   0.18232963  0.19465386  0.17974307  0.20872454  0.72960835\n",
      " -0.71547379  0.74773317] \n",
      " [4.29813124 4.63699982 5.76286293 ... 7.69723484 3.93628577 4.6334727 ]\n"
     ]
    }
   ],
   "source": [
    "alpha, beta, q = em(L, 200)"
   ]
  },
  {
   "cell_type": "markdown",
   "metadata": {
    "id": "QczRsf3MZ0LK"
   },
   "source": [
    "**Задание 2. (1 балл)** Загрузите настоящую разметку. Посчитайте `accuracy` разметки, полученной с помощью обычного голосования по большинству среди экспертов, и сравните его с качеством, полученным с помощью EM-алгоритма. Помните, что алгоритму не важно, какая метка 0, а какая 1, поэтому если получите качество <0.5, то просто поменяйте метки классов (не забудьте также поменять знак у $\\alpha$). "
   ]
  },
  {
   "cell_type": "code",
   "execution_count": 33,
   "metadata": {
    "colab": {
     "base_uri": "https://localhost:8080/"
    },
    "executionInfo": {
     "elapsed": 467,
     "status": "ok",
     "timestamp": 1615407035787,
     "user": {
      "displayName": "Mark Korneychik",
      "photoUrl": "https://lh3.googleusercontent.com/a-/AOh14Gg2t_tx2VGHfVCy-uAWu1hS00L7lmmABIBdLlzY=s64",
      "userId": "06449057774039502694"
     },
     "user_tz": -180
    },
    "id": "cnBXLz3IZ0LK",
    "outputId": "b3ceb66f-81af-4aea-93b5-2f784d2fd3ce"
   },
   "outputs": [
    {
     "name": "stdout",
     "output_type": "stream",
     "text": [
      "accuracy max votes = 0.904\n",
      "accuracy EM        = 0.956\n"
     ]
    }
   ],
   "source": [
    "y = np.load(f'{DRIVE_PREFIX}y.npy')\n",
    "# (∩ ￣ー￣)⊃ ✳✨✳✨✳✨✳\n",
    "\n",
    "from sklearn.metrics import accuracy_score\n",
    "\n",
    "print(\"accuracy max votes =\", accuracy_score(y, np.average(L,axis=1) > 0.5))\n",
    "print(\"accuracy EM        =\", accuracy_score(y, np.argmax(q,axis=0)))"
   ]
  },
  {
   "cell_type": "markdown",
   "metadata": {
    "id": "0mJVj2OhDqHS"
   },
   "source": [
    "**Вывод**: EM показывает лучше точность"
   ]
  },
  {
   "cell_type": "markdown",
   "metadata": {
    "id": "z2EYfH7DZ0LL"
   },
   "source": [
    "**Задание 3. (0.5 балла)** Попробуйте проинтерпретировать полученные коэфициенты $\\alpha$. Есть ли в выборке эксперты, которые намеренно голосуют неверно? Как это можно понять по альфам? Продемонстрируйте, что эксперты действительно чаще голосуют за неверный класс. Постройте график зависимости доли врено размеченных экспертом объектов от коэффициента $\\alpha$. Прокомментируйте результаты."
   ]
  },
  {
   "cell_type": "code",
   "execution_count": 34,
   "metadata": {
    "colab": {
     "base_uri": "https://localhost:8080/",
     "height": 382
    },
    "executionInfo": {
     "elapsed": 685,
     "status": "ok",
     "timestamp": 1615407042632,
     "user": {
      "displayName": "Mark Korneychik",
      "photoUrl": "https://lh3.googleusercontent.com/a-/AOh14Gg2t_tx2VGHfVCy-uAWu1hS00L7lmmABIBdLlzY=s64",
      "userId": "06449057774039502694"
     },
     "user_tz": -180
    },
    "id": "d2mtR7hhZ0LL",
    "outputId": "1ea51230-1ef8-45e1-aff5-828ec4a51d3f"
   },
   "outputs": [
    {
     "data": {
      "text/plain": [
       "(array([1.25703663, 0.        , 0.        , 0.        , 0.        ,\n",
       "        0.        , 3.14259158, 0.        , 0.        , 1.88555495]),\n",
       " array([-0.80183738, -0.64273303, -0.48362867, -0.32452432, -0.16541997,\n",
       "        -0.00631561,  0.15278874,  0.31189309,  0.47099745,  0.6301018 ,\n",
       "         0.78920615]),\n",
       " <a list of 10 Patch objects>)"
      ]
     },
     "execution_count": 34,
     "metadata": {
      "tags": []
     },
     "output_type": "execute_result"
    },
    {
     "data": {
      "image/png": "[encoded data removed]",
      "text/plain": [
       "<Figure size 432x288 with 1 Axes>"
      ]
     },
     "metadata": {
      "needs_background": "light",
      "tags": []
     },
     "output_type": "display_data"
    }
   ],
   "source": [
    "import matplotlib.pyplot as plt\n",
    "\n",
    "plt.title(\"Distribution of alpha values\")\n",
    "plt.hist(alpha, density=True)"
   ]
  },
  {
   "cell_type": "markdown",
   "metadata": {
    "id": "SYsY2m9U8ZH3"
   },
   "source": [
    "**Вывод**: Получилось 3 типа голосующих: которые считаются сильно хорошими, которые считаются сильно плохими и какие-то не очень определившиеся"
   ]
  },
  {
   "cell_type": "code",
   "execution_count": 35,
   "metadata": {
    "colab": {
     "base_uri": "https://localhost:8080/",
     "height": 312
    },
    "executionInfo": {
     "elapsed": 795,
     "status": "ok",
     "timestamp": 1615407052678,
     "user": {
      "displayName": "Mark Korneychik",
      "photoUrl": "https://lh3.googleusercontent.com/a-/AOh14Gg2t_tx2VGHfVCy-uAWu1hS00L7lmmABIBdLlzY=s64",
      "userId": "06449057774039502694"
     },
     "user_tz": -180
    },
    "id": "BAQb86mL95hc",
    "outputId": "97ee0335-c6ad-45bf-9a24-7fa7e6f7d9c7"
   },
   "outputs": [
    {
     "data": {
      "text/plain": [
       "<matplotlib.collections.PathCollection at 0x7fc808d499d0>"
      ]
     },
     "execution_count": 35,
     "metadata": {
      "tags": []
     },
     "output_type": "execute_result"
    },
    {
     "data": {
      "image/png": "[encoded data removed]",
      "text/plain": [
       "<Figure size 432x288 with 1 Axes>"
      ]
     },
     "metadata": {
      "needs_background": "light",
      "tags": []
     },
     "output_type": "display_data"
    }
   ],
   "source": [
    "votes = np.array([expit(np.outer(beta, alpha)), 1 - expit(np.outer(beta, alpha))])\n",
    "votes = np.argmax(votes, axis=0)\n",
    "correct_votes = np.sum(((votes.T ^ y) ^ 1), axis=1)\n",
    "\n",
    "plt.xlabel(\"alpha\")\n",
    "plt.ylabel(\"number of correct votes\")\n",
    "plt.title(\"Number of correct votes by alpha\")\n",
    "plt.scatter(alpha, correct_votes)"
   ]
  },
  {
   "cell_type": "markdown",
   "metadata": {
    "id": "BsKfyAqEw9zP"
   },
   "source": [
    "**Вывод**: Видно что эксперты с отрицательной альфой дали меньше половины правильных ответов, а эксперты с положительной альфой - больше половины."
   ]
  },
  {
   "cell_type": "markdown",
   "metadata": {
    "id": "DseTWfvzZ0LM"
   },
   "source": [
    "**Задание 4. (бонус, 2 балла)**  Как уже было замечено выше, модели не важно, какой класс 1, а какой 0. Скажем, если все эксперты оказались максимально противными и ставят метку с точностью наоборот, то у вас будет полная согласованность между экспертами, при этом невозможно понять правильно они разметили выборку или нет, смотря только на такую разметку. Чтобы избежать этого, можно включать в выборку вопрос с заведомо известным ответом, тогда вы сможете определить, ставит ли эксперт специально неверные метки.\n",
    "\n",
    "Чтобы обощить данную модель на случай заданий с заведомо известной меткой, достоточно не делать для них E-шаг, а всегда полагать апостериорное распределение вырожденным в истинном классе. Реализуйте данную модель и используйте истинную разметку *для нескольких* задач из обучения. Проинтерпретируйте полученные результаты."
   ]
  },
  {
   "cell_type": "markdown",
   "metadata": {
    "id": "pTPu66_syAEs"
   },
   "source": [
    "Препишем функцию апостериорной вероятности"
   ]
  },
  {
   "cell_type": "code",
   "execution_count": 79,
   "metadata": {
    "executionInfo": {
     "elapsed": 528,
     "status": "ok",
     "timestamp": 1615409656986,
     "user": {
      "displayName": "Mark Korneychik",
      "photoUrl": "https://lh3.googleusercontent.com/a-/AOh14Gg2t_tx2VGHfVCy-uAWu1hS00L7lmmABIBdLlzY=s64",
      "userId": "06449057774039502694"
     },
     "user_tz": -180
    },
    "id": "gjMSolq9yD5d"
   },
   "outputs": [],
   "source": [
    "def posterior(alpha, beta, L):\n",
    "    \"\"\" Posterior over true labels z p(z|l, \\alpha, \\beta)\n",
    "    Args:\n",
    "        alpha: ndarray of shape (n_experts).\n",
    "        beta: ndarray of shape (n_problems).\n",
    "        L: ndarray of shape (n_problems, n_experts).\n",
    "    \"\"\"\n",
    "    ### все старое\n",
    "    beta_alpha = np.outer(beta, alpha)\n",
    "    log_beta_alpha_expit = -softplus(-beta_alpha)\n",
    "    log_minus_beta_alpha_expit = -softplus(beta_alpha)\n",
    "\n",
    "    L_ = np.bitwise_xor(L, 1)\n",
    "\n",
    "    qs = np.array([\n",
    "        np.sum((log_beta_alpha_expit * L_) + (log_minus_beta_alpha_expit * L), axis=1),\n",
    "        np.sum((log_beta_alpha_expit * L) + (log_minus_beta_alpha_expit * L_), axis=1),\n",
    "    ])\n",
    "    qs += np.log(0.5)\n",
    "    qs = np.exp(qs)\n",
    "\n",
    "    ### новое\n",
    "\n",
    "    qs[y[known_ids], known_ids] = 0.9\n",
    "    qs[y[known_ids] ^ 1, known_ids] = 0.1\n",
    "\n",
    "    return qs * 1.0 / np.sum(qs, axis=0)"
   ]
  },
  {
   "cell_type": "markdown",
   "metadata": {
    "id": "FeRPkZeIyraW"
   },
   "source": [
    "Запустим"
   ]
  },
  {
   "cell_type": "code",
   "execution_count": 81,
   "metadata": {
    "colab": {
     "base_uri": "https://localhost:8080/"
    },
    "executionInfo": {
     "elapsed": 295314,
     "status": "ok",
     "timestamp": 1615409955330,
     "user": {
      "displayName": "Mark Korneychik",
      "photoUrl": "https://lh3.googleusercontent.com/a-/AOh14Gg2t_tx2VGHfVCy-uAWu1hS00L7lmmABIBdLlzY=s64",
      "userId": "06449057774039502694"
     },
     "user_tz": -180
    },
    "id": "-tEkyyRYytuz",
    "outputId": "94325ebd-8b89-4249-bf60-531c871e0c7c"
   },
   "outputs": [
    {
     "name": "stdout",
     "output_type": "stream",
     "text": [
      "number of known ids = 32\n",
      "\t BAAAAD not enough known samples 0.091\n",
      "\t BAAAAD not enough known samples 0.096\n",
      "\t BAAAAD not enough known samples 0.09\n",
      "\t 0.9335\n",
      "\t 0.92\n",
      "number of known ids = 64\n",
      "\t 0.936\n",
      "\t 0.94\n",
      "\t 0.932\n",
      "\t BAAAAD not enough known samples 0.0945\n",
      "\t 0.9245\n",
      "number of known ids = 128\n",
      "\t 0.9315\n",
      "\t BAAAAD not enough known samples 0.1435\n",
      "\t BAAAAD not enough known samples 0.1385\n",
      "\t BAAAAD not enough known samples 0.1225\n",
      "\t 0.9365\n",
      "number of known ids = 256\n",
      "\t BAAAAD not enough known samples 0.202\n",
      "\t BAAAAD not enough known samples 0.187\n",
      "\t BAAAAD not enough known samples 0.2085\n",
      "\t 0.9395\n",
      "\t BAAAAD not enough known samples 0.1985\n",
      "number of known ids = 512\n",
      "\t BAAAAD not enough known samples 0.3045\n",
      "\t BAAAAD not enough known samples 0.3205\n",
      "\t 0.945\n",
      "\t 0.9515\n",
      "\t 0.9465\n",
      "SUCCESS\n"
     ]
    }
   ],
   "source": [
    "known_ids = []\n",
    "for i in [32, 64, 128, 256, 512]:\n",
    "    print(\"number of known ids =\", i)\n",
    "    known_ids = np.random.choice(2000, size=(i, ), replace=False)\n",
    "    #print(\"\\t\", known_ids)\n",
    "\n",
    "    for j in range(5):\n",
    "        alpha, beta, q = em(L, 49)\n",
    "        accuracy = accuracy_score(y, np.argmax(q,axis=0))\n",
    "        assert np.all(y[known_ids] == np.argmax(q,axis=0)[known_ids])\n",
    "        if accuracy < 0.5:\n",
    "            print(\"\\t\", \"BAAAAD not enough known samples\", accuracy)\n",
    "            #break\n",
    "        else: \n",
    "            print(\"\\t\", accuracy)\n",
    "\n",
    "print(\"SUCCESS\")"
   ]
  },
  {
   "cell_type": "markdown",
   "metadata": {
    "id": "YF2urafwCA8E"
   },
   "source": [
    "**Вывод**: Что-то неоднозначное. Похоже начальные параметры сильно влияют на алгоритм. Попробуем что-то исправить дальше"
   ]
  },
  {
   "cell_type": "code",
   "execution_count": 109,
   "metadata": {
    "executionInfo": {
     "elapsed": 503,
     "status": "ok",
     "timestamp": 1615411723380,
     "user": {
      "displayName": "Mark Korneychik",
      "photoUrl": "https://lh3.googleusercontent.com/a-/AOh14Gg2t_tx2VGHfVCy-uAWu1hS00L7lmmABIBdLlzY=s64",
      "userId": "06449057774039502694"
     },
     "user_tz": -180
    },
    "id": "RyHtvIhY_u6G"
   },
   "outputs": [],
   "source": [
    "def em(L, n_steps=1000, lr=1e-3, verbose=None, validate=False):\n",
    "    # initialize parameters\n",
    "    alpha, logbeta = np.zeros(m), np.zeros(n) # Сделаем нулями, так более стабильно\n",
    "\n",
    "    ### остальное трогать не будем ###\n",
    "    q = np.ones((2, len(logbeta))) * 0.5\n",
    "\n",
    "    for step in range(n_steps):\n",
    "        if verbose and (step + 1) % verbose == 0:\n",
    "            print(\"step =\", step)\n",
    "            if validate:\n",
    "                print(\"accuracy EM =\", accuracy_score(y, np.argmax(q,axis=0)))\n",
    "                \n",
    "        q = posterior(alpha, np.exp(logbeta), L)\n",
    "        alpha, logbeta = lower_bound(alpha, np.exp(logbeta), L, q, 40, lr)\n",
    "        logbeta = np.log(logbeta)\n",
    "\n",
    "    #print(alpha, \"\\n\", np.exp(logbeta))\n",
    "    return alpha, np.exp(logbeta), q"
   ]
  },
  {
   "cell_type": "code",
   "execution_count": 115,
   "metadata": {
    "colab": {
     "base_uri": "https://localhost:8080/"
    },
    "executionInfo": {
     "elapsed": 177990,
     "status": "ok",
     "timestamp": 1615412040810,
     "user": {
      "displayName": "Mark Korneychik",
      "photoUrl": "https://lh3.googleusercontent.com/a-/AOh14Gg2t_tx2VGHfVCy-uAWu1hS00L7lmmABIBdLlzY=s64",
      "userId": "06449057774039502694"
     },
     "user_tz": -180
    },
    "id": "ZTIDPXKqAyNG",
    "outputId": "2601209c-7b9b-460b-d059-3ee10b75be54"
   },
   "outputs": [
    {
     "name": "stdout",
     "output_type": "stream",
     "text": [
      "number of known ids = 32\n",
      "\t 0.9575\n",
      "\t 0.958\n",
      "\t 0.957\n",
      "\t 0.9585\n",
      "\t 0.9585\n",
      "number of known ids = 64\n",
      "\t 0.9575\n",
      "\t 0.9565\n",
      "\t 0.957\n",
      "\t 0.9585\n",
      "\t 0.9575\n",
      "number of known ids = 128\n",
      "\t 0.9585\n",
      "\t 0.96\n",
      "\t 0.96\n",
      "\t 0.962\n",
      "\t 0.9585\n",
      "SUCCESS\n"
     ]
    }
   ],
   "source": [
    "known_ids = []\n",
    "for i in [32, 64, 128]:\n",
    "    print(\"number of known ids =\", i)\n",
    "\n",
    "    for j in range(5):\n",
    "        # будем генерировать теперь каждый раз заново, потому что начальные параметры алгоритма всегда одинаковые\n",
    "        known_ids = np.random.choice(2000, size=(i, ), replace=False)\n",
    "        alpha, beta, q = em(L, 49, 1e-4)\n",
    "        accuracy = accuracy_score(y, np.argmax(q,axis=0))\n",
    "        assert np.all(y[known_ids] == np.argmax(q,axis=0)[known_ids])\n",
    "        if accuracy < 0.5:\n",
    "            print(\"\\t\", \"BAAAAD not enough known samples\", accuracy)\n",
    "            #break\n",
    "        else: \n",
    "            print(\"\\t\", accuracy)\n",
    "\n",
    "print(\"SUCCESS\")"
   ]
  },
  {
   "cell_type": "markdown",
   "metadata": {
    "id": "gd4lZDuHC-hb"
   },
   "source": [
    "**Вывод**: Теперь неплохо. Улучшение работает"
   ]
  },
  {
   "cell_type": "markdown",
   "metadata": {
    "id": "fXh3lG2kZ0LM"
   },
   "source": [
    "# Выравнивание слов (Word Alignment)"
   ]
  },
  {
   "cell_type": "markdown",
   "metadata": {
    "id": "X8_dpbx2Z0LO"
   },
   "source": [
    "EM-алгоритм также применяют на практике для настройки параметров модели выравнивания слов, более сложные модификации которой используются в статистическом машинном переводе. Мы не будем подробно обсуждать применение word alignment для перевода и ограничимся следующей целью: пусть у нас есть параллельный корпус из предложений на исходном языке и их переводов на целевой язык (в этом задании используются английский и чешский соответственно). \n",
    "\n",
    "Первая задача — определить с помощью этого корпуса, как переводится каждое отдельное слово на целевом языке. Вторая задача — для произвольной пары из предложения и его перевода установить, переводом какого слова в исходном предложении является каждое слово в целевом предложении. Оказывается, у обеих задач существует элегантное и эффективное решение при введении правильной вероятностной модели: в этой части задания вам предстоит его реализовать и оценить результаты работы. Но обо всём по порядку :)\n",
    "\n",
    "---\n",
    "\n",
    "Перед тем, как заниматься машинным обучением, давайте разберёмся с данными и метриками в интересующей нас задаче. В ячейке ниже загружается и разархивируется параллельный английско-чешский корпус, в котором есть разметка выравнивания слов. Нетрудно заметить, что формат XML-файла, использованный его авторами, не вполне стандартный: нет готовой команды , которая позволила бы получить список пар предложений вместе с выравниваниями. Это значит, что нужно разобраться с форматом и написать парсер самостоятельно, используя встроенные средства Python, например, модуль [xml](https://docs.python.org/3.7/library/xml.html)."
   ]
  },
  {
   "cell_type": "code",
   "execution_count": 8,
   "metadata": {
    "colab": {
     "base_uri": "https://localhost:8080/"
    },
    "executionInfo": {
     "elapsed": 2151,
     "status": "ok",
     "timestamp": 1615493128437,
     "user": {
      "displayName": "Mark Korneychik",
      "photoUrl": "https://lh3.googleusercontent.com/a-/AOh14Gg2t_tx2VGHfVCy-uAWu1hS00L7lmmABIBdLlzY=s64",
      "userId": "06449057774039502694"
     },
     "user_tz": -180
    },
    "id": "4_R41S-LZ0LO",
    "outputId": "803a2239-bfde-46d6-da9a-6392e988c7ff"
   },
   "outputs": [
    {
     "name": "stdout",
     "output_type": "stream",
     "text": [
      "<?xml version=\"1.0\" encoding=\"utf-8\" ?>\n",
      "<sentences>\n",
      "<s id=\"project_syndicate_bacchetta1-s1\">\r\n",
      "  <english>Are the Dollar 's Days Numbered ?</english>\n",
      "  <czech>Jsou dny dolaru sečteny ?</czech>\n",
      "  <sure>1-1 3-3 5-2 6-4 7-5</sure>\n",
      "  <possible>2-2 4-3</possible>\n",
      "</s>\n",
      "<s id=\"project_syndicate_bacchetta1-s2\">\r\n",
      "  <english>Philippe Bacchetta and Eric van Wincoop</english>\n"
     ]
    }
   ],
   "source": [
    "%%bash\n",
    "wget -q https://lindat.mff.cuni.cz/repository/xmlui/bitstream/handle/11234/1-1804/CzEnAli_1.0.tar.gz -O CzEnAli_1.0.tar.gz\n",
    "mkdir -p data\n",
    "tar -xzf CzEnAli_1.0.tar.gz -C data/\n",
    "head -n 10 data/merged_data/project_syndicate/project_syndicate_bacchetta1.wa"
   ]
  },
  {
   "cell_type": "markdown",
   "metadata": {
    "id": "AJh1Puw_Z0LP"
   },
   "source": [
    "**Задание -2. (0.5 балла)** Реализуйте функцию `extract_sentences`, которая принимает на вход путь к файлу с XML-разметкой, используемой в этом датасете, и возвращает список параллельных предложений, а также список из «уверенных» (sure) и «возможных» (possible) пар выравниваний. Отправьте вашу реализацию в Яндекс.Контест, чтобы убедиться в её корректности; в следующей ячейке ноутбука соберите все пары размеченных предложений из датасета в два списка `all_sentences` (список `SentencePair`) и `all_targets` (список LabeledAlignment).\n",
    "\n",
    "Здесь и далее соблюдайте сигнатуры функций и пользуйтесь объявленными в модуле `preprocessing.py` классами для организации данных. Стоит заметить, что предложения уже токенизированы (даже отделена пунктуация), поэтому предобработку текстов совершать не нужно. Обратите внимание на формат хранения выравниваний: нумерация начинается с 1 (в таком виде и нужно сохранять), первым в паре идёт слово из англоязычного предложения."
   ]
  },
  {
   "cell_type": "code",
   "execution_count": 9,
   "metadata": {
    "executionInfo": {
     "elapsed": 2386,
     "status": "ok",
     "timestamp": 1615493129682,
     "user": {
      "displayName": "Mark Korneychik",
      "photoUrl": "https://lh3.googleusercontent.com/a-/AOh14Gg2t_tx2VGHfVCy-uAWu1hS00L7lmmABIBdLlzY=s64",
      "userId": "06449057774039502694"
     },
     "user_tz": -180
    },
    "id": "DyKlNm8awufl"
   },
   "outputs": [],
   "source": [
    "exec(open(f'{DRIVE_PREFIX}preprocessing.py').read())\n",
    "#exec(open(f'{DRIVE_PREFIX}models.py').read())\n",
    "import os\n",
    "import glob\n",
    "\n",
    "all_sentences = []\n",
    "all_targets = []\n",
    "\n",
    "rootdir = \"data/\"\n",
    "\n",
    "for subdir, dirs, files in os.walk(rootdir):\n",
    "    for file in files:\n",
    "        #print os.path.join(subdir, file)\n",
    "        filepath = subdir + os.sep + file\n",
    "\n",
    "        if filepath.endswith(\".wa\"):\n",
    "            try:\n",
    "                a, b = extract_sentences(filepath)\n",
    "                for x in a:\n",
    "                    all_sentences.append(x)\n",
    "                for x in b:\n",
    "                    all_targets.append(x)\n",
    "            except:\n",
    "                print(filepath)\n"
   ]
  },
  {
   "cell_type": "markdown",
   "metadata": {
    "id": "9s9eXWa8DAA8"
   },
   "source": [
    "**SUCCESS**: [link](https://contest.yandex.ru/contest/25534/run-report/49085616/)"
   ]
  },
  {
   "cell_type": "markdown",
   "metadata": {
    "id": "RlC43HPIZ0LQ"
   },
   "source": [
    "**Задание -1. (0.5 балла)** Реализуйте функции `get_token_to_index` и `tokenize_sents` из модуля `preprocessing.py`, постройте словари token->index для обоих языков и постройте список из `TokenizedSentencePair` по выборке. Реализации функций также отправьте в Яндекс.Контест."
   ]
  },
  {
   "cell_type": "code",
   "execution_count": 10,
   "metadata": {
    "executionInfo": {
     "elapsed": 1294,
     "status": "ok",
     "timestamp": 1615493130042,
     "user": {
      "displayName": "Mark Korneychik",
      "photoUrl": "https://lh3.googleusercontent.com/a-/AOh14Gg2t_tx2VGHfVCy-uAWu1hS00L7lmmABIBdLlzY=s64",
      "userId": "06449057774039502694"
     },
     "user_tz": -180
    },
    "id": "ktnhC_3wZ0LQ"
   },
   "outputs": [],
   "source": [
    "exec(open(f'{DRIVE_PREFIX}preprocessing.py').read())\n",
    "#from preprocessing import get_token_to_index, tokenize_sents\n",
    "\n",
    "t_idx_src, t_idx_tgt = get_token_to_index(all_sentences)\n",
    "tokenized_sentences = tokenize_sents(all_sentences, t_idx_src, t_idx_tgt)"
   ]
  },
  {
   "cell_type": "markdown",
   "metadata": {
    "id": "FjFNNwPcCs2j"
   },
   "source": [
    "**SUCCESS**: [link](https://contest.yandex.ru/contest/25534/run-report/49164190/)"
   ]
  },
  {
   "cell_type": "markdown",
   "metadata": {
    "id": "nkkBHUDSZ0LR"
   },
   "source": [
    "В качестве бейзлайна для этой задачи мы возьмём способ выравнивания слов по коэффициенту Дайса: слово в исходном языке является переводом слова на целевом языке, если они часто встречаются в одних и тех же предложениях и редко встречаются по отдельности. \n",
    "\n",
    "Математически это записывается по аналогии с мерой Жаккара: пусть $c(x,y)$ — число параллельных предложений, в которых есть и $x$ (на исходном языке), и $y$ (на целевом языке), а $c(x)$ и $c(y)$ — суммарное количество предложений, в которых встречается слово $x$ и $y$ соответственно. Тогда $\\textrm{Dice}(x,y)=\\frac{2 \\cdot c(x,y)}{c(x) + c(y)}$ — характеристика «похожести» слов $x$ и $y$. Она равна 1, если слова встречаются только в контексте друг друга (не бывает предложений только со словом $x$ без $y$ в переводе и наоборот), равна 0, если слова никогда не встречаются в параллельных предложениях и находится между пороговыми значениями в остальных случаях.\n",
    "\n",
    "В файле `models.py` описан абстрактный класс `BaseAligner`, наследником которого должны являться все модели в задании, а также приведён пример реализации `DiceAligner` выравнивания слов описанным выше путём. Ниже вы можете увидеть, как применять эту модель."
   ]
  },
  {
   "cell_type": "code",
   "execution_count": 11,
   "metadata": {
    "executionInfo": {
     "elapsed": 14667,
     "status": "ok",
     "timestamp": 1615493144892,
     "user": {
      "displayName": "Mark Korneychik",
      "photoUrl": "https://lh3.googleusercontent.com/a-/AOh14Gg2t_tx2VGHfVCy-uAWu1hS00L7lmmABIBdLlzY=s64",
      "userId": "06449057774039502694"
     },
     "user_tz": -180
    },
    "id": "IldyADxvZ0LR"
   },
   "outputs": [],
   "source": [
    "exec(open(f'{DRIVE_PREFIX}models.py').read())\n",
    "#from models import DiceAligner\n",
    "\n",
    "baseline = DiceAligner(len(t_idx_src), len(t_idx_tgt), threshold=0.01)\n",
    "baseline.fit(tokenized_sentences)"
   ]
  },
  {
   "cell_type": "markdown",
   "metadata": {
    "id": "d7E5CbssZ0LR"
   },
   "source": [
    "Чтобы оценить качество модели выравнивания, пользуясь имеющейся разметкой, существует ряд автоматических метрик. Они подразумевают, что в разметке есть два вида выравниваний — «уверенные» (sure) и «возможные» (possible). Обозначим для конкретного предложения первое множество выравниваний $S$, второе — $P$, а предсказанные выравнивания — $A$; причём, в отличие от разметки в файле, $S\\subseteq P$. Тогда можно предложить три метрики, используя только операции над этими множествами:\n",
    "\n",
    "Precision $=\\frac{|A\\cap P|}{|A|}$. Отражает, какая доля предсказанных нами выравниваний вообще корректна; если мы дадим в качестве ответа все возможные пары слов в предложении, эта метрика сильно просядет.\n",
    "\n",
    "Recall $=\\frac{|A\\cap S|}{|S|}$. Эта метрика показывает, какую долю «уверенных» выравниваний мы обнаружили. Если мы попытаемся сделать слишком консервативную модель, которая выдаёт 0 или 1 предсказание на нетривиальных предложениях, полнота получится крайне низкая. \n",
    "\n",
    "Alignment Error Rate (AER) $=1-\\frac{|A\\cap P|+|A\\cap S|}{|A|+|S|}$. Метрика является комбинацией двух предыдущих и отслеживает общее качество работы системы, штрафуя оба описанных выше вида нежелаемого поведения модели. \n",
    "\n",
    "**Задание 0. (0.5 балла)** Реализуйте функции compute_precision, compute_recall, compute_aer из модуля metrics.py. Оцените качество бейзлайнового метода. Обратите внимание, что нужно использовать микро-усреднение во всех функциях: необходимо просуммировать числитель и знаменатель по всем предложениям и только потом делить."
   ]
  },
  {
   "cell_type": "code",
   "execution_count": 12,
   "metadata": {
    "colab": {
     "base_uri": "https://localhost:8080/"
    },
    "executionInfo": {
     "elapsed": 17016,
     "status": "ok",
     "timestamp": 1615493148547,
     "user": {
      "displayName": "Mark Korneychik",
      "photoUrl": "https://lh3.googleusercontent.com/a-/AOh14Gg2t_tx2VGHfVCy-uAWu1hS00L7lmmABIBdLlzY=s64",
      "userId": "06449057774039502694"
     },
     "user_tz": -180
    },
    "id": "BPgjYVVkZ0LS",
    "outputId": "d49f1ff0-2883-48c6-b842-bec39d94c196"
   },
   "outputs": [
    {
     "data": {
      "text/plain": [
       "0.8115275584918071"
      ]
     },
     "execution_count": 12,
     "metadata": {
      "tags": []
     },
     "output_type": "execute_result"
    }
   ],
   "source": [
    "exec(open(f'{DRIVE_PREFIX}metrics.py').read())\n",
    "\n",
    "compute_aer(all_targets,baseline.align(tokenized_sentences))"
   ]
  },
  {
   "cell_type": "markdown",
   "metadata": {
    "id": "sd7GXd8Ax_6a"
   },
   "source": [
    "**SUCCESS**: [link](https://contest.yandex.ru/contest/25534/run-report/49336129/)"
   ]
  },
  {
   "cell_type": "markdown",
   "metadata": {
    "id": "NPiaLnaoZ0LS"
   },
   "source": [
    "Теперь мы можем перейти к базовой вероятностной модели для выравнивания слов. Пусть $S=(s_1,\\ldots,s_n)$ исходное предложение, $T=(t_1,\\ldots,t_m)$ — его перевод. В роли латентных переменных будут выступать выравнивания $A=(a_1,\\ldots,a_m)$ каждого слова в целевом предложении, причём $a_i\\in\\{1,\\ldots,n\\}$ (считаем, что каждое слово в $t$ является переводом какого-то слова из $s$). Параметрами модели является матрица условных вероятностей перевода: каждый её элемент $\\theta(y|x)=p(y|x)$ отражает вероятность того, что переводом слова $x$ с исходного языка на целевой является слово $y$ (нормировка, соответственно, совершается по словарю целевого языка). Правдоподобие латентных переменных и предложения на целевом языке в этой модели записывается так:\n",
    "\n",
    "$$\n",
    "p(A,T|S)=\\prod_{i=1}^m p(a_i)p(t_i|a_i,S)=\\prod_{i=1}^m \\frac{1}{n}\\theta(t_i|s_{a_i}).\n",
    "$$ "
   ]
  },
  {
   "cell_type": "markdown",
   "metadata": {
    "id": "nUERCm9TZ0LS"
   },
   "source": [
    "**Задание 1. (2 балла)** Выведите шаги EM-алгоритма для этой модели, а также получите выражение для подсчёта нижней оценки правдоподобия ($\\mathcal{L}$ в обозначениях лекции и семинара). **Обратите внимание, что на M-шаге нужно найти аналитический максимум по параметрам.**"
   ]
  },
  {
   "cell_type": "markdown",
   "metadata": {
    "id": "Y2WmflgUZ0LT"
   },
   "source": [
    "(∩｀-´)⊃━☆ﾟ.*･｡ﾟ Боже царя храни, дай возможность душу отдать и пропустить это задание, но получить взамен нужные формулы... "
   ]
  },
  {
   "cell_type": "markdown",
   "metadata": {
    "id": "t3CX_8CSZ0LT"
   },
   "source": [
    "**Задание 2. (2.5 балла)** Реализуйте все методы класса `WordAligner` в соответствии с полученными вами формулами. Протестируйте вашу реализацию через Яндекс.Контест, а здесь обучите модель и посчитайте её AER на истинной разметке. Чтобы предсказать выравнивание для пары предложений в этой модели, следует выбирать в соответствие для слова в целевом предложении с индексом $i$ позицию, соответствующую максимуму апостериорного распределения $p(a_i|T,S)$."
   ]
  },
  {
   "cell_type": "code",
   "execution_count": null,
   "metadata": {
    "id": "nerflPjTZ0LT"
   },
   "outputs": [],
   "source": [
    "from models import WordAligner\n",
    "\n",
    "word_aligner = WordAligner(len(t_idx_src), len(t_idx_tgt), 20)\n",
    "word_aligner.fit(tokenized_sentences);\n",
    "\n",
    "# ༼つ ಠ益ಠ༽つ ─=≡ΣO))"
   ]
  },
  {
   "cell_type": "markdown",
   "metadata": {
    "id": "DS8QtiKmZ0LT"
   },
   "source": [
    "Заметим, что таблицу вероятностей перевода можно использовать и саму по себе для построения словарей. Пример работы показан ниже: метод хоть и работает, но мягко говоря, неидально — слишком мало данных."
   ]
  },
  {
   "cell_type": "code",
   "execution_count": null,
   "metadata": {
    "id": "KBHLUT_hZ0LU"
   },
   "outputs": [],
   "source": [
    "idx_token_tgt = {index:token for token, index in t_idx_tgt.items()}"
   ]
  },
  {
   "cell_type": "code",
   "execution_count": null,
   "metadata": {
    "id": "E6v2v76_Z0LU"
   },
   "outputs": [],
   "source": [
    "[idx_token_tgt[i] for i in word_aligner.translation_probs[t_idx_src['Mr']].argsort()[-3:]]"
   ]
  },
  {
   "cell_type": "code",
   "execution_count": null,
   "metadata": {
    "id": "QHVmHFOwZ0LU"
   },
   "outputs": [],
   "source": [
    "[idx_token_tgt[i] for i in word_aligner.translation_probs[t_idx_src['Mrs']].argsort()[-3:]]"
   ]
  },
  {
   "cell_type": "code",
   "execution_count": null,
   "metadata": {
    "id": "HKaurYhpZ0LU",
    "scrolled": true
   },
   "outputs": [],
   "source": [
    "[idx_token_tgt[i] for i in word_aligner.translation_probs[t_idx_src['water']].argsort()[-3:]]"
   ]
  },
  {
   "cell_type": "code",
   "execution_count": null,
   "metadata": {
    "id": "t09S5MR9Z0LV"
   },
   "outputs": [],
   "source": [
    "[idx_token_tgt[i] for i in word_aligner.translation_probs[t_idx_src['depended']].argsort()[-3:]]"
   ]
  },
  {
   "cell_type": "code",
   "execution_count": null,
   "metadata": {
    "id": "fH0bYUsKZ0LV"
   },
   "outputs": [],
   "source": [
    "[idx_token_tgt[i] for i in word_aligner.translation_probs[t_idx_src['on']].argsort()[-3:]]"
   ]
  },
  {
   "cell_type": "markdown",
   "metadata": {
    "id": "9AXyu9iZZ0LV"
   },
   "source": [
    "**Задание 3. (0.5 балла)** Мы смогли получить матрицу условных вероятностей перевода исходного языка в целевой. Можно ли, пользуясь этой матрицей и ещё какими-то статистиками по параллельному корпусу, получить вероятности перевода целевого языка в исходный? Реализуйте такой метод и приведите ниже пример его работы, показав пару удачных переводов."
   ]
  },
  {
   "cell_type": "code",
   "execution_count": null,
   "metadata": {
    "id": "CsnOEMeZZ0LV"
   },
   "outputs": [],
   "source": [
    "# (>ω<)ノ—==ΞΞ☆*✲ﾟ"
   ]
  },
  {
   "cell_type": "markdown",
   "metadata": {
    "id": "bt81ogzuZ0LW"
   },
   "source": [
    "**Задание 4. (0.5 балла)** Визуализируйте полученные выравнивания для нескольких предложений в виде heatmap: по одной из осей располагаются токены исходного текста, по другой — токены его перевода, на пересечении позиций $i$ и $j$ — 0 либо 1 в зависимости от того, является ли в обученной модели $a_i$ равным $j$. Можете ли вы их проинтерпретировать? Постройте аналогичный график, но без дискретизации, а визуализируя напрямую апостериорное распределение. Можете ли вы найти ситуации, в которых модель не уверена, переводом какого слова является слово $i$?"
   ]
  },
  {
   "cell_type": "code",
   "execution_count": null,
   "metadata": {
    "id": "DZPhEBHZZ0LW"
   },
   "outputs": [],
   "source": [
    "# (•̀ 3 •́)━★☆.*･｡ﾟ"
   ]
  },
  {
   "cell_type": "markdown",
   "metadata": {
    "id": "4nReldSkZ0LW"
   },
   "source": [
    "Заметим, что при задании модели мы сделали довольно сильное предположение о том, что вероятности выбора слова для выравнивания никак не зависят от позиции слова в целевом предложении. Можно сделать эти вероятности настраиваемыми параметрами, получив прямоугольную матрицу $\\phi_{m,n}(j|i)=p(a_i=j|m,n)$ для каждой пары длин предложений $m,n$: по-прежнему мы получаем распределение над индексами в исходном предложении. Тогда модель приобретает вид\n",
    "$$\n",
    "p(A,T|S)=\\prod_{i=1}^m p(a_i|m,n)p(t_i| a_i, S)=\\prod_{i=1}^m \\phi_{m,n}(a_i|i)\\theta(t_i|s_{a_i}).\n",
    "$$"
   ]
  },
  {
   "cell_type": "markdown",
   "metadata": {
    "id": "PlvIOkWhZ0LW"
   },
   "source": [
    "**Задание 5. (1.5 балла)** Выведите шаги EM-алгоритма для этой модели, а также получите выражение для подсчёта нижней оценки правдоподобия."
   ]
  },
  {
   "cell_type": "markdown",
   "metadata": {
    "id": "0YXBuAqrZ0LX"
   },
   "source": [
    "ଘ(๑˃̵ᴗ˂̵)━☆ﾟ.*･｡ﾟ"
   ]
  },
  {
   "cell_type": "markdown",
   "metadata": {
    "id": "oqgaYyBaZ0LX"
   },
   "source": [
    "**Задание 6. (2 балла)** Реализуйте все методы класса `WordPositionAligner`, протестируйте их корректность через Яндекс.Контест. Обучите модель, оцените её качество на истинной разметке и сравните его с качеством предыдущей более простой модели. Проиллюстрируйте влияние стартовых параметров на результат, проинициализировав эту модель параметрами модели из задания 2 (важно, чтобы суммарное число эпох обучения в обоих сценариях оставалось тем же)."
   ]
  },
  {
   "cell_type": "code",
   "execution_count": null,
   "metadata": {
    "id": "t6gza-yLZ0LX"
   },
   "outputs": [],
   "source": [
    "from models import WordPositionAligner\n",
    "# (≧ ◡ ≦)━★☆.*･｡ﾟ"
   ]
  },
  {
   "cell_type": "markdown",
   "metadata": {
    "id": "c9JAI2wGZ0LX"
   },
   "source": [
    "**Задание 7. (1 балл)** В предыдущих пунктах мы никак не заостряли внимание на предобработке текстов, что может негативно влиять на результаты обученной модели. Например, сейчас метод выравнивания учитывает регистр, а слова на чешском языке вдобавок обладают богатой морфологией и большим количеством диакритических знаков. Если сократить количество параметров модели (различных слов), можно ускорить обучение и добиться лучших результатов, потому что статистики по словам будут считаться по большему числу параллельных предложений.\n",
    "\n",
    "Примените к исходным данным [Unicode-нормализацию](https://en.wikipedia.org/wiki/Unicode_equivalence#Normalization), приведите их к нижнему регистру и обучите модель выравнивания заново. Сравните качество и скорость обучения с предыдущими результатами и сделайте выводы. Если вы найдете в данных ещё какие-то проблемы, которые можно исправить более грамотной предобработкой, также продемонстрируйте, как их решение влияет на качество.\n",
    "\n",
    "**Важно:** здесь и далее в процессе обработки данных у вас может получаться, что из тестовых данных будут удалены предложения из-за отсутствия слов в словаре. Если такое всё же произошло, для корректности сравнения считайте AER вашей модели на удалённых предложениях равным 1."
   ]
  },
  {
   "cell_type": "code",
   "execution_count": null,
   "metadata": {
    "id": "mL7NsRr8Z0LX"
   },
   "outputs": [],
   "source": [
    "# (੭•̀ω•́)੭̸*✩⁺˚"
   ]
  },
  {
   "cell_type": "markdown",
   "metadata": {
    "id": "BhNidt8eZ0LY"
   },
   "source": [
    "**Задание 7. (бонус, до 3 баллов)** \n",
    "\n",
    "Улучшите качество получившейся системы настолько, насколько сможете. За каждые 5 процентов, на которые AER на тех же данных получается меньше, чем минимум ошибки всех предыдущих моделей, вы получите по 1 бонусному баллу.\n",
    "\n",
    "Ниже приведены несколько идей, которые могут помочь вам повысить \n",
    "\n",
    "* Модифицировать модель: как вы можете понять, недостатком второго реализованного вами подхода является избыточное число параметров из-за необходимости подерживать отдельную матрицу для каждой различной пары длин предложений в корпусе. В статье https://www.aclweb.org/anthology/N13-1073.pdf приведён способ снижения числа параметров, задающих априорное распределение позиций выравнивания, который позволяет в десять раз быстрее обучать модель и получать лучшее качество.\n",
    "* Агрегация по двум направлениям: в статье https://www.aclweb.org/anthology/J03-1002/ утверждается, что асимметричность выравниваний вредит качеству, потому что из-за выбранной модели одному слову в целевом предложении не может соответствовать два слова в исходном предложении. Для решения этой проблемы (и улучшения метрик, разумеется) авторы предлагают несколько алгоритмов, которые можно попробовать применить в этом задании.\n",
    "* Использовать больше обучающих данных. В корпусе, которым мы пользуемся, только пара тысяч предложений, чего может не хватать для по-настоящему хорошей модели выравнивания. Разумеется, неразмеченных параллельных английско-чешских корпусов гораздо больше, поэтому можно воспользоваться ими. Хорошая точка для старта — данные с соревнования по машинному переводу  [воркшопа WMT](http://www.statmt.org/wmt20/translation-task.html).\n",
    "* В языках часто существуют слова наподобие артиклей или предлогов, которым не соответствует ни одно слово в переводе. Все рассмотренные в рамках задания модели это не учитывают, возможно, добавление возможности перевода в «нулевой» токен улучшит качество модели (при тестировании такие выравнивания имеет смысл выбрасывать)"
   ]
  },
  {
   "cell_type": "code",
   "execution_count": null,
   "metadata": {
    "id": "uOfmUz29Z0LY"
   },
   "outputs": [],
   "source": [
    "# ┐_(ツ)_┌━☆ﾟ.*･｡ﾟ"
   ]
  }
 ],
 "metadata": {
  "colab": {
   "collapsed_sections": [],
   "name": "homework-practice-09-em.ipynb",
   "provenance": []
  },
  "kernelspec": {
   "display_name": "Python 2",
   "language": "python",
   "name": "python2"
  },
  "language_info": {
   "codemirror_mode": {
    "name": "ipython",
    "version": 2
   },
   "file_extension": ".py",
   "mimetype": "text/x-python",
   "name": "python",
   "nbconvert_exporter": "python",
   "pygments_lexer": "ipython2",
   "version": "2.7.6"
  }
 },
 "nbformat": 4,
 "nbformat_minor": 1
}
